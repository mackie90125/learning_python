{
 "cells": [
  {
   "cell_type": "markdown",
   "metadata": {
    "collapsed": true,
    "pycharm": {
     "name": "#%% md\n"
    }
   },
   "source": [
    "# Data Analysis with Python Course\n",
    "\n",
    "# Read and Write Files\n",
    "# interact with OS\n",
    "\n",
    "## freeCodeCamp.org YouTube"
   ]
  },
  {
   "cell_type": "code",
   "execution_count": 1,
   "outputs": [
    {
     "data": {
      "text/plain": "'/Users/ryan/UofL Health Data/Learning Python'"
     },
     "execution_count": 1,
     "metadata": {},
     "output_type": "execute_result"
    }
   ],
   "source": [
    "import os\n",
    "\n",
    "# check current working directory\n",
    "os.getcwd()"
   ],
   "metadata": {
    "collapsed": false,
    "pycharm": {
     "name": "#%%\n"
    }
   }
  },
  {
   "cell_type": "code",
   "execution_count": 2,
   "outputs": [
    {
     "data": {
      "text/plain": "['Variables and Data Types.ipynb',\n 'climate.txt',\n 'Functions.ipynb',\n 'Numpy.ipynb',\n 'Read and Write Files.ipynb',\n 'venv',\n '.git',\n 'climate_results.txt',\n 'Branching and Loops.ipynb',\n '.idea']"
     },
     "execution_count": 2,
     "metadata": {},
     "output_type": "execute_result"
    }
   ],
   "source": [
    "# list files in directory\n",
    "os.listdir()"
   ],
   "metadata": {
    "collapsed": false,
    "pycharm": {
     "name": "#%%\n"
    }
   }
  },
  {
   "cell_type": "code",
   "execution_count": 3,
   "outputs": [],
   "source": [
    "# create new directory\n",
    "os.makedirs('./data', exist_ok=True)"
   ],
   "metadata": {
    "collapsed": false,
    "pycharm": {
     "name": "#%%\n"
    }
   }
  },
  {
   "cell_type": "code",
   "execution_count": 7,
   "outputs": [
    {
     "data": {
      "text/plain": "['loans2.txt', 'loans3.txt', 'loans1.txt']"
     },
     "execution_count": 7,
     "metadata": {},
     "output_type": "execute_result"
    }
   ],
   "source": [
    "# download some files into data/\n",
    "import urllib.request\n",
    "\n",
    "url1 = 'https://gist.githubusercontent.com/aakashns/257f6e6c8719c17d0e498ea287d1a386/raw/7def9ef4234ddf0bc82f855ad67dac8b971852ef/loans1.txt'\n",
    "url2 = 'https://gist.githubusercontent.com/aakashns/257f6e6c8719c17d0e498ea287d1a386/raw/7def9ef4234ddf0bc82f855ad67dac8b971852ef/loans2.txt'\n",
    "url3 = 'https://gist.githubusercontent.com/aakashns/257f6e6c8719c17d0e498ea287d1a386/raw/7def9ef4234ddf0bc82f855ad67dac8b971852ef/loans3.txt'\n",
    "\n",
    "urllib.request.urlretrieve(url1, './data/loans1.txt')\n",
    "urllib.request.urlretrieve(url2, './data/loans2.txt')\n",
    "urllib.request.urlretrieve(url3, './data/loans3.txt')\n",
    "\n",
    "os.listdir('./data')"
   ],
   "metadata": {
    "collapsed": false,
    "pycharm": {
     "name": "#%%\n"
    }
   }
  },
  {
   "cell_type": "code",
   "execution_count": 13,
   "outputs": [
    {
     "name": "stdout",
     "output_type": "stream",
     "text": [
      "amount,duration,rate,down_payment\n",
      "100000,36,0.08,20000\n",
      "200000,12,0.1,\n",
      "628400,120,0.12,100000\n",
      "4637400,240,0.06,\n",
      "42900,90,0.07,8900\n",
      "916000,16,0.13,\n",
      "45230,48,0.08,4300\n",
      "991360,99,0.08,\n",
      "423000,27,0.09,47200\n"
     ]
    }
   ],
   "source": [
    "# create file pointed to read contents\n",
    "# open files will stay in memory until closed\n",
    "file1 = open('./data/loans1.txt', mode='r')\n",
    "\n",
    "# read contents of file\n",
    "file1_c = file1.read()\n",
    "\n",
    "print(file1_c)"
   ],
   "metadata": {
    "collapsed": false,
    "pycharm": {
     "name": "#%%\n"
    }
   }
  },
  {
   "cell_type": "code",
   "execution_count": 14,
   "outputs": [],
   "source": [
    "file1.close()"
   ],
   "metadata": {
    "collapsed": false,
    "pycharm": {
     "name": "#%%\n"
    }
   }
  },
  {
   "cell_type": "code",
   "execution_count": 15,
   "outputs": [
    {
     "name": "stdout",
     "output_type": "stream",
     "text": [
      "amount,duration,rate,down_payment\n",
      "828400,120,0.11,100000\n",
      "4633400,240,0.06,\n",
      "42900,90,0.08,8900\n",
      "983000,16,0.14,\n",
      "15230,48,0.07,4300\n"
     ]
    }
   ],
   "source": [
    "# automatically close a file after running whatever steps you need\n",
    "with open('./data/loans2.txt', mode='r') as file2:\n",
    "    file2_c = file2.read()\n",
    "    print(file2_c)"
   ],
   "metadata": {
    "collapsed": false,
    "pycharm": {
     "name": "#%%\n"
    }
   }
  },
  {
   "cell_type": "code",
   "execution_count": 17,
   "outputs": [],
   "source": [
    "# read a file line by line\n",
    "with open('./data/loans3.txt', mode = 'r') as file3:\n",
    "    file3_lines = file3.readlines()"
   ],
   "metadata": {
    "collapsed": false,
    "pycharm": {
     "name": "#%%\n"
    }
   }
  },
  {
   "cell_type": "code",
   "execution_count": 20,
   "outputs": [
    {
     "data": {
      "text/plain": "['amount,duration,rate,down_payment\\n',\n '45230,48,0.07,4300\\n',\n '883000,16,0.14,\\n',\n '100000,12,0.1,\\n',\n '728400,120,0.12,100000\\n',\n '3637400,240,0.06,\\n',\n '82900,90,0.07,8900\\n',\n '316000,16,0.13,\\n',\n '15230,48,0.08,4300\\n',\n '991360,99,0.08,\\n',\n '323000,27,0.09,4720010000,36,0.08,20000\\n',\n '528400,120,0.11,100000\\n',\n '8633400,240,0.06,\\n',\n '12900,90,0.08,8900']"
     },
     "execution_count": 20,
     "metadata": {},
     "output_type": "execute_result"
    }
   ],
   "source": [
    "file3_lines"
   ],
   "metadata": {
    "collapsed": false,
    "pycharm": {
     "name": "#%%\n"
    }
   }
  },
  {
   "cell_type": "code",
   "execution_count": 21,
   "outputs": [
    {
     "data": {
      "text/plain": "'amount,duration,rate,down_payment'"
     },
     "execution_count": 21,
     "metadata": {},
     "output_type": "execute_result"
    }
   ],
   "source": [
    "# remove new line character at end of each line\n",
    "file3_lines[0].strip()"
   ],
   "metadata": {
    "collapsed": false,
    "pycharm": {
     "name": "#%%\n"
    }
   }
  },
  {
   "cell_type": "code",
   "execution_count": 23,
   "outputs": [
    {
     "data": {
      "text/plain": "['amount', 'duration', 'rate', 'down_payment']"
     },
     "execution_count": 23,
     "metadata": {},
     "output_type": "execute_result"
    }
   ],
   "source": [
    "# read contents of file and create a dictionary\n",
    "\n",
    "def parse_headers(header_line):\n",
    "    return header_line.strip().split(',')\n",
    "\n",
    "# read in headers\n",
    "headers = parse_headers(file3_lines[0])\n",
    "headers"
   ],
   "metadata": {
    "collapsed": false,
    "pycharm": {
     "name": "#%%\n"
    }
   }
  },
  {
   "cell_type": "code",
   "execution_count": 26,
   "outputs": [
    {
     "data": {
      "text/plain": "[45230.0, 48.0, 0.07, 4300.0]"
     },
     "execution_count": 26,
     "metadata": {},
     "output_type": "execute_result"
    }
   ],
   "source": [
    "def parse_values(data_line):\n",
    "    values = []\n",
    "    for item in data_line.strip().split(','):\n",
    "        if item == '':\n",
    "            values.append(0.0)\n",
    "        else:\n",
    "            values.append(float(item))\n",
    "    return  values\n",
    "\n",
    "parse_values(file3_lines[1])"
   ],
   "metadata": {
    "collapsed": false,
    "pycharm": {
     "name": "#%%\n"
    }
   }
  },
  {
   "cell_type": "code",
   "execution_count": 27,
   "outputs": [
    {
     "data": {
      "text/plain": "[883000.0, 16.0, 0.14, 0.0]"
     },
     "execution_count": 27,
     "metadata": {},
     "output_type": "execute_result"
    }
   ],
   "source": [
    "parse_values(file3_lines[2])"
   ],
   "metadata": {
    "collapsed": false,
    "pycharm": {
     "name": "#%%\n"
    }
   }
  },
  {
   "cell_type": "code",
   "execution_count": 29,
   "outputs": [
    {
     "data": {
      "text/plain": "{'amount': 883000.0, 'duration': 16.0, 'rate': 0.14, 'down_payment': 0.0}"
     },
     "execution_count": 29,
     "metadata": {},
     "output_type": "execute_result"
    }
   ],
   "source": [
    "def create_item_dict(values, head):\n",
    "    result = {}\n",
    "    for value, header in zip(values, head):\n",
    "        result[header] = value\n",
    "    return result\n",
    "\n",
    "create_item_dict(parse_values(file3_lines[2]), headers)"
   ],
   "metadata": {
    "collapsed": false,
    "pycharm": {
     "name": "#%%\n"
    }
   }
  },
  {
   "cell_type": "code",
   "execution_count": 30,
   "outputs": [],
   "source": [
    "# read csv function\n",
    "def read_csv(path):\n",
    "    result = []\n",
    "    # Open the file in read mode\n",
    "    with open(path, 'r') as f:\n",
    "        # Get a list of lines\n",
    "        lines = f.readlines()\n",
    "        # Parse the header\n",
    "        headers = parse_headers(lines[0])\n",
    "        # Loop over the remaining lines\n",
    "        for data_line in lines[1:]:\n",
    "            # Parse the values\n",
    "            values = parse_values(data_line)\n",
    "            # Create a dictionary using values & headers\n",
    "            item_dict = create_item_dict(values, headers)\n",
    "            # Add the dictionary to the result\n",
    "            result.append(item_dict)\n",
    "    return result"
   ],
   "metadata": {
    "collapsed": false,
    "pycharm": {
     "name": "#%%\n"
    }
   }
  },
  {
   "cell_type": "code",
   "execution_count": 31,
   "outputs": [
    {
     "data": {
      "text/plain": "[{'amount': 45230.0, 'duration': 48.0, 'rate': 0.07, 'down_payment': 4300.0},\n {'amount': 883000.0, 'duration': 16.0, 'rate': 0.14, 'down_payment': 0.0},\n {'amount': 100000.0, 'duration': 12.0, 'rate': 0.1, 'down_payment': 0.0},\n {'amount': 728400.0,\n  'duration': 120.0,\n  'rate': 0.12,\n  'down_payment': 100000.0},\n {'amount': 3637400.0, 'duration': 240.0, 'rate': 0.06, 'down_payment': 0.0},\n {'amount': 82900.0, 'duration': 90.0, 'rate': 0.07, 'down_payment': 8900.0},\n {'amount': 316000.0, 'duration': 16.0, 'rate': 0.13, 'down_payment': 0.0},\n {'amount': 15230.0, 'duration': 48.0, 'rate': 0.08, 'down_payment': 4300.0},\n {'amount': 991360.0, 'duration': 99.0, 'rate': 0.08, 'down_payment': 0.0},\n {'amount': 323000.0,\n  'duration': 27.0,\n  'rate': 0.09,\n  'down_payment': 4720010000.0},\n {'amount': 528400.0,\n  'duration': 120.0,\n  'rate': 0.11,\n  'down_payment': 100000.0},\n {'amount': 8633400.0, 'duration': 240.0, 'rate': 0.06, 'down_payment': 0.0},\n {'amount': 12900.0, 'duration': 90.0, 'rate': 0.08, 'down_payment': 8900.0}]"
     },
     "execution_count": 31,
     "metadata": {},
     "output_type": "execute_result"
    }
   ],
   "source": [
    "read_csv('./data/loans3.txt')"
   ],
   "metadata": {
    "collapsed": false,
    "pycharm": {
     "name": "#%%\n"
    }
   }
  },
  {
   "cell_type": "code",
   "execution_count": 32,
   "outputs": [],
   "source": [
    "loans3 = read_csv('./data/loans3.txt')"
   ],
   "metadata": {
    "collapsed": false,
    "pycharm": {
     "name": "#%%\n"
    }
   }
  },
  {
   "cell_type": "code",
   "execution_count": 34,
   "outputs": [],
   "source": [
    "# write files\n",
    "with open('./data/loans3_new.txt', 'w') as f:\n",
    "    for loan in loans3:\n",
    "        f.write('{},{},{},{}\\n'.format(\n",
    "            loan['amount'],\n",
    "            loan['duration'],\n",
    "            loan['rate'],\n",
    "            loan['down_payment']))"
   ],
   "metadata": {
    "collapsed": false,
    "pycharm": {
     "name": "#%%\n"
    }
   }
  }
 ],
 "metadata": {
  "kernelspec": {
   "display_name": "Python 3",
   "language": "python",
   "name": "python3"
  },
  "language_info": {
   "codemirror_mode": {
    "name": "ipython",
    "version": 2
   },
   "file_extension": ".py",
   "mimetype": "text/x-python",
   "name": "python",
   "nbconvert_exporter": "python",
   "pygments_lexer": "ipython2",
   "version": "2.7.6"
  }
 },
 "nbformat": 4,
 "nbformat_minor": 0
}