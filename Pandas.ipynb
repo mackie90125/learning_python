{
 "cells": [
  {
   "cell_type": "markdown",
   "metadata": {
    "collapsed": true,
    "pycharm": {
     "name": "#%% md\n"
    }
   },
   "source": [
    "# Data Analysis with Python Course\n",
    "\n",
    "# Pandas\n",
    "\n",
    "## freeCodeCamp.org YouTube"
   ]
  },
  {
   "cell_type": "code",
   "execution_count": 2,
   "outputs": [
    {
     "data": {
      "text/plain": "('italy-covid-daywise.csv', <http.client.HTTPMessage at 0x1110d2be0>)"
     },
     "execution_count": 2,
     "metadata": {},
     "output_type": "execute_result"
    }
   ],
   "source": [
    "from urllib.request import urlretrieve\n",
    "\n",
    "italy_covid_url = 'https://gist.githubusercontent.com/aakashns/f6a004fa20c84fec53262f9a8bfee775/raw/f309558b1cf5103424cef58e2ecb8704dcd4d74c/italy-covid-daywise.csv'\n",
    "\n",
    "urlretrieve(italy_covid_url, 'data/italy-covid-daywise.csv')"
   ],
   "metadata": {
    "collapsed": false,
    "pycharm": {
     "name": "#%%\n"
    }
   }
  },
  {
   "cell_type": "code",
   "execution_count": 3,
   "outputs": [],
   "source": [
    "import pandas as pd\n",
    "\n",
    "covid_df = pd.read_csv('data/italy-covid-daywise.csv')"
   ],
   "metadata": {
    "collapsed": false,
    "pycharm": {
     "name": "#%%\n"
    }
   }
  },
  {
   "cell_type": "code",
   "execution_count": 4,
   "outputs": [
    {
     "data": {
      "text/plain": "pandas.core.frame.DataFrame"
     },
     "execution_count": 4,
     "metadata": {},
     "output_type": "execute_result"
    }
   ],
   "source": [
    "type(covid_df)"
   ],
   "metadata": {
    "collapsed": false,
    "pycharm": {
     "name": "#%%\n"
    }
   }
  },
  {
   "cell_type": "code",
   "execution_count": 5,
   "outputs": [
    {
     "data": {
      "text/plain": "           date  new_cases  new_deaths  new_tests\n0    2019-12-31        0.0         0.0        NaN\n1    2020-01-01        0.0         0.0        NaN\n2    2020-01-02        0.0         0.0        NaN\n3    2020-01-03        0.0         0.0        NaN\n4    2020-01-04        0.0         0.0        NaN\n..          ...        ...         ...        ...\n243  2020-08-30     1444.0         1.0    53541.0\n244  2020-08-31     1365.0         4.0    42583.0\n245  2020-09-01      996.0         6.0    54395.0\n246  2020-09-02      975.0         8.0        NaN\n247  2020-09-03     1326.0         6.0        NaN\n\n[248 rows x 4 columns]",
      "text/html": "<div>\n<style scoped>\n    .dataframe tbody tr th:only-of-type {\n        vertical-align: middle;\n    }\n\n    .dataframe tbody tr th {\n        vertical-align: top;\n    }\n\n    .dataframe thead th {\n        text-align: right;\n    }\n</style>\n<table border=\"1\" class=\"dataframe\">\n  <thead>\n    <tr style=\"text-align: right;\">\n      <th></th>\n      <th>date</th>\n      <th>new_cases</th>\n      <th>new_deaths</th>\n      <th>new_tests</th>\n    </tr>\n  </thead>\n  <tbody>\n    <tr>\n      <th>0</th>\n      <td>2019-12-31</td>\n      <td>0.0</td>\n      <td>0.0</td>\n      <td>NaN</td>\n    </tr>\n    <tr>\n      <th>1</th>\n      <td>2020-01-01</td>\n      <td>0.0</td>\n      <td>0.0</td>\n      <td>NaN</td>\n    </tr>\n    <tr>\n      <th>2</th>\n      <td>2020-01-02</td>\n      <td>0.0</td>\n      <td>0.0</td>\n      <td>NaN</td>\n    </tr>\n    <tr>\n      <th>3</th>\n      <td>2020-01-03</td>\n      <td>0.0</td>\n      <td>0.0</td>\n      <td>NaN</td>\n    </tr>\n    <tr>\n      <th>4</th>\n      <td>2020-01-04</td>\n      <td>0.0</td>\n      <td>0.0</td>\n      <td>NaN</td>\n    </tr>\n    <tr>\n      <th>...</th>\n      <td>...</td>\n      <td>...</td>\n      <td>...</td>\n      <td>...</td>\n    </tr>\n    <tr>\n      <th>243</th>\n      <td>2020-08-30</td>\n      <td>1444.0</td>\n      <td>1.0</td>\n      <td>53541.0</td>\n    </tr>\n    <tr>\n      <th>244</th>\n      <td>2020-08-31</td>\n      <td>1365.0</td>\n      <td>4.0</td>\n      <td>42583.0</td>\n    </tr>\n    <tr>\n      <th>245</th>\n      <td>2020-09-01</td>\n      <td>996.0</td>\n      <td>6.0</td>\n      <td>54395.0</td>\n    </tr>\n    <tr>\n      <th>246</th>\n      <td>2020-09-02</td>\n      <td>975.0</td>\n      <td>8.0</td>\n      <td>NaN</td>\n    </tr>\n    <tr>\n      <th>247</th>\n      <td>2020-09-03</td>\n      <td>1326.0</td>\n      <td>6.0</td>\n      <td>NaN</td>\n    </tr>\n  </tbody>\n</table>\n<p>248 rows × 4 columns</p>\n</div>"
     },
     "execution_count": 5,
     "metadata": {},
     "output_type": "execute_result"
    }
   ],
   "source": [
    "covid_df"
   ],
   "metadata": {
    "collapsed": false,
    "pycharm": {
     "name": "#%%\n"
    }
   }
  },
  {
   "cell_type": "code",
   "execution_count": 6,
   "outputs": [
    {
     "name": "stdout",
     "output_type": "stream",
     "text": [
      "<class 'pandas.core.frame.DataFrame'>\n",
      "RangeIndex: 248 entries, 0 to 247\n",
      "Data columns (total 4 columns):\n",
      " #   Column      Non-Null Count  Dtype  \n",
      "---  ------      --------------  -----  \n",
      " 0   date        248 non-null    object \n",
      " 1   new_cases   248 non-null    float64\n",
      " 2   new_deaths  248 non-null    float64\n",
      " 3   new_tests   135 non-null    float64\n",
      "dtypes: float64(3), object(1)\n",
      "memory usage: 7.9+ KB\n"
     ]
    }
   ],
   "source": [
    "# information about data frame\n",
    "covid_df.info()"
   ],
   "metadata": {
    "collapsed": false,
    "pycharm": {
     "name": "#%%\n"
    }
   }
  },
  {
   "cell_type": "code",
   "execution_count": 7,
   "outputs": [
    {
     "data": {
      "text/plain": "         new_cases  new_deaths     new_tests\ncount   248.000000  248.000000    135.000000\nmean   1094.818548  143.133065  31699.674074\nstd    1554.508002  227.105538  11622.209757\nmin    -148.000000  -31.000000   7841.000000\n25%     123.000000    3.000000  25259.000000\n50%     342.000000   17.000000  29545.000000\n75%    1371.750000  175.250000  37711.000000\nmax    6557.000000  971.000000  95273.000000",
      "text/html": "<div>\n<style scoped>\n    .dataframe tbody tr th:only-of-type {\n        vertical-align: middle;\n    }\n\n    .dataframe tbody tr th {\n        vertical-align: top;\n    }\n\n    .dataframe thead th {\n        text-align: right;\n    }\n</style>\n<table border=\"1\" class=\"dataframe\">\n  <thead>\n    <tr style=\"text-align: right;\">\n      <th></th>\n      <th>new_cases</th>\n      <th>new_deaths</th>\n      <th>new_tests</th>\n    </tr>\n  </thead>\n  <tbody>\n    <tr>\n      <th>count</th>\n      <td>248.000000</td>\n      <td>248.000000</td>\n      <td>135.000000</td>\n    </tr>\n    <tr>\n      <th>mean</th>\n      <td>1094.818548</td>\n      <td>143.133065</td>\n      <td>31699.674074</td>\n    </tr>\n    <tr>\n      <th>std</th>\n      <td>1554.508002</td>\n      <td>227.105538</td>\n      <td>11622.209757</td>\n    </tr>\n    <tr>\n      <th>min</th>\n      <td>-148.000000</td>\n      <td>-31.000000</td>\n      <td>7841.000000</td>\n    </tr>\n    <tr>\n      <th>25%</th>\n      <td>123.000000</td>\n      <td>3.000000</td>\n      <td>25259.000000</td>\n    </tr>\n    <tr>\n      <th>50%</th>\n      <td>342.000000</td>\n      <td>17.000000</td>\n      <td>29545.000000</td>\n    </tr>\n    <tr>\n      <th>75%</th>\n      <td>1371.750000</td>\n      <td>175.250000</td>\n      <td>37711.000000</td>\n    </tr>\n    <tr>\n      <th>max</th>\n      <td>6557.000000</td>\n      <td>971.000000</td>\n      <td>95273.000000</td>\n    </tr>\n  </tbody>\n</table>\n</div>"
     },
     "execution_count": 7,
     "metadata": {},
     "output_type": "execute_result"
    }
   ],
   "source": [
    "# summary statistics for data frame\n",
    "covid_df.describe()"
   ],
   "metadata": {
    "collapsed": false,
    "pycharm": {
     "name": "#%%\n"
    }
   }
  },
  {
   "cell_type": "code",
   "execution_count": 8,
   "outputs": [
    {
     "data": {
      "text/plain": "Index(['date', 'new_cases', 'new_deaths', 'new_tests'], dtype='object')"
     },
     "execution_count": 8,
     "metadata": {},
     "output_type": "execute_result"
    }
   ],
   "source": [
    "# column names\n",
    "covid_df.columns"
   ],
   "metadata": {
    "collapsed": false,
    "pycharm": {
     "name": "#%%\n"
    }
   }
  },
  {
   "cell_type": "code",
   "execution_count": 9,
   "outputs": [
    {
     "data": {
      "text/plain": "(248, 4)"
     },
     "execution_count": 9,
     "metadata": {},
     "output_type": "execute_result"
    }
   ],
   "source": [
    "# dimensions\n",
    "covid_df.shape"
   ],
   "metadata": {
    "collapsed": false,
    "pycharm": {
     "name": "#%%\n"
    }
   }
  },
  {
   "cell_type": "code",
   "execution_count": 10,
   "outputs": [
    {
     "data": {
      "text/plain": "0         0.0\n1         0.0\n2         0.0\n3         0.0\n4         0.0\n        ...  \n243    1444.0\n244    1365.0\n245     996.0\n246     975.0\n247    1326.0\nName: new_cases, Length: 248, dtype: float64"
     },
     "execution_count": 10,
     "metadata": {},
     "output_type": "execute_result"
    }
   ],
   "source": [
    "# accessing column information\n",
    "covid_df['new_cases']"
   ],
   "metadata": {
    "collapsed": false,
    "pycharm": {
     "name": "#%%\n"
    }
   }
  },
  {
   "cell_type": "code",
   "execution_count": 14,
   "outputs": [
    {
     "data": {
      "text/plain": "540.0"
     },
     "execution_count": 14,
     "metadata": {},
     "output_type": "execute_result"
    }
   ],
   "source": [
    "# indexing a column\n",
    "covid_df['new_deaths'][100]"
   ],
   "metadata": {
    "collapsed": false,
    "pycharm": {
     "name": "#%%\n"
    }
   }
  },
  {
   "cell_type": "code",
   "execution_count": 15,
   "outputs": [
    {
     "data": {
      "text/plain": "540.0"
     },
     "execution_count": 15,
     "metadata": {},
     "output_type": "execute_result"
    }
   ],
   "source": [
    "# use at command to access a row, column\n",
    "covid_df.at[100, 'new_deaths']"
   ],
   "metadata": {
    "collapsed": false,
    "pycharm": {
     "name": "#%%\n"
    }
   }
  },
  {
   "cell_type": "code",
   "execution_count": 16,
   "outputs": [
    {
     "data": {
      "text/plain": "0      0.0\n1      0.0\n2      0.0\n3      0.0\n4      0.0\n      ... \n243    1.0\n244    4.0\n245    6.0\n246    8.0\n247    6.0\nName: new_deaths, Length: 248, dtype: float64"
     },
     "execution_count": 16,
     "metadata": {},
     "output_type": "execute_result"
    }
   ],
   "source": [
    "# can also say\n",
    "covid_df.new_deaths"
   ],
   "metadata": {
    "collapsed": false,
    "pycharm": {
     "name": "#%%\n"
    }
   }
  },
  {
   "cell_type": "code",
   "execution_count": 17,
   "outputs": [
    {
     "data": {
      "text/plain": "           date  new_deaths\n0    2019-12-31         0.0\n1    2020-01-01         0.0\n2    2020-01-02         0.0\n3    2020-01-03         0.0\n4    2020-01-04         0.0\n..          ...         ...\n243  2020-08-30         1.0\n244  2020-08-31         4.0\n245  2020-09-01         6.0\n246  2020-09-02         8.0\n247  2020-09-03         6.0\n\n[248 rows x 2 columns]",
      "text/html": "<div>\n<style scoped>\n    .dataframe tbody tr th:only-of-type {\n        vertical-align: middle;\n    }\n\n    .dataframe tbody tr th {\n        vertical-align: top;\n    }\n\n    .dataframe thead th {\n        text-align: right;\n    }\n</style>\n<table border=\"1\" class=\"dataframe\">\n  <thead>\n    <tr style=\"text-align: right;\">\n      <th></th>\n      <th>date</th>\n      <th>new_deaths</th>\n    </tr>\n  </thead>\n  <tbody>\n    <tr>\n      <th>0</th>\n      <td>2019-12-31</td>\n      <td>0.0</td>\n    </tr>\n    <tr>\n      <th>1</th>\n      <td>2020-01-01</td>\n      <td>0.0</td>\n    </tr>\n    <tr>\n      <th>2</th>\n      <td>2020-01-02</td>\n      <td>0.0</td>\n    </tr>\n    <tr>\n      <th>3</th>\n      <td>2020-01-03</td>\n      <td>0.0</td>\n    </tr>\n    <tr>\n      <th>4</th>\n      <td>2020-01-04</td>\n      <td>0.0</td>\n    </tr>\n    <tr>\n      <th>...</th>\n      <td>...</td>\n      <td>...</td>\n    </tr>\n    <tr>\n      <th>243</th>\n      <td>2020-08-30</td>\n      <td>1.0</td>\n    </tr>\n    <tr>\n      <th>244</th>\n      <td>2020-08-31</td>\n      <td>4.0</td>\n    </tr>\n    <tr>\n      <th>245</th>\n      <td>2020-09-01</td>\n      <td>6.0</td>\n    </tr>\n    <tr>\n      <th>246</th>\n      <td>2020-09-02</td>\n      <td>8.0</td>\n    </tr>\n    <tr>\n      <th>247</th>\n      <td>2020-09-03</td>\n      <td>6.0</td>\n    </tr>\n  </tbody>\n</table>\n<p>248 rows × 2 columns</p>\n</div>"
     },
     "execution_count": 17,
     "metadata": {},
     "output_type": "execute_result"
    }
   ],
   "source": [
    "# enter a list of columns to get more than one\n",
    "covid_df[['date','new_deaths']]"
   ],
   "metadata": {
    "collapsed": false,
    "pycharm": {
     "name": "#%%\n"
    }
   }
  },
  {
   "cell_type": "code",
   "execution_count": 20,
   "outputs": [
    {
     "name": "stdout",
     "output_type": "stream",
     "text": [
      "<class 'pandas.core.frame.DataFrame'>\n",
      "RangeIndex: 248 entries, 0 to 247\n",
      "Data columns (total 2 columns):\n",
      " #   Column     Non-Null Count  Dtype  \n",
      "---  ------     --------------  -----  \n",
      " 0   date       248 non-null    object \n",
      " 1   new_cases  248 non-null    float64\n",
      "dtypes: float64(1), object(1)\n",
      "memory usage: 4.0+ KB\n"
     ]
    }
   ],
   "source": [
    "# creating a new data frame view as below will not create an entirely new data frame\n",
    "# it will still point to the same data frame in memory as the original\n",
    "# changing data in one, will change data in all views of that data frame\n",
    "cases_df = covid_df[['date','new_cases']]\n",
    "cases_df.info()"
   ],
   "metadata": {
    "collapsed": false,
    "pycharm": {
     "name": "#%%\n"
    }
   }
  },
  {
   "cell_type": "code",
   "execution_count": 21,
   "outputs": [],
   "source": [
    "# if you want a legitimate new copy of a data frame, you must use .copy function\n",
    "covid_df_copy = covid_df.copy()"
   ],
   "metadata": {
    "collapsed": false,
    "pycharm": {
     "name": "#%%\n"
    }
   }
  },
  {
   "cell_type": "code",
   "execution_count": 22,
   "outputs": [
    {
     "data": {
      "text/plain": "date          2020-04-09\nnew_cases         3836.0\nnew_deaths         540.0\nnew_tests            NaN\nName: 100, dtype: object"
     },
     "execution_count": 22,
     "metadata": {},
     "output_type": "execute_result"
    }
   ],
   "source": [
    "# access a row of data\n",
    "covid_df.loc[100]"
   ],
   "metadata": {
    "collapsed": false,
    "pycharm": {
     "name": "#%%\n"
    }
   }
  },
  {
   "cell_type": "code",
   "execution_count": 23,
   "outputs": [
    {
     "data": {
      "text/plain": "         date  new_cases  new_deaths  new_tests\n0  2019-12-31        0.0         0.0        NaN\n1  2020-01-01        0.0         0.0        NaN\n2  2020-01-02        0.0         0.0        NaN\n3  2020-01-03        0.0         0.0        NaN\n4  2020-01-04        0.0         0.0        NaN",
      "text/html": "<div>\n<style scoped>\n    .dataframe tbody tr th:only-of-type {\n        vertical-align: middle;\n    }\n\n    .dataframe tbody tr th {\n        vertical-align: top;\n    }\n\n    .dataframe thead th {\n        text-align: right;\n    }\n</style>\n<table border=\"1\" class=\"dataframe\">\n  <thead>\n    <tr style=\"text-align: right;\">\n      <th></th>\n      <th>date</th>\n      <th>new_cases</th>\n      <th>new_deaths</th>\n      <th>new_tests</th>\n    </tr>\n  </thead>\n  <tbody>\n    <tr>\n      <th>0</th>\n      <td>2019-12-31</td>\n      <td>0.0</td>\n      <td>0.0</td>\n      <td>NaN</td>\n    </tr>\n    <tr>\n      <th>1</th>\n      <td>2020-01-01</td>\n      <td>0.0</td>\n      <td>0.0</td>\n      <td>NaN</td>\n    </tr>\n    <tr>\n      <th>2</th>\n      <td>2020-01-02</td>\n      <td>0.0</td>\n      <td>0.0</td>\n      <td>NaN</td>\n    </tr>\n    <tr>\n      <th>3</th>\n      <td>2020-01-03</td>\n      <td>0.0</td>\n      <td>0.0</td>\n      <td>NaN</td>\n    </tr>\n    <tr>\n      <th>4</th>\n      <td>2020-01-04</td>\n      <td>0.0</td>\n      <td>0.0</td>\n      <td>NaN</td>\n    </tr>\n  </tbody>\n</table>\n</div>"
     },
     "execution_count": 23,
     "metadata": {},
     "output_type": "execute_result"
    }
   ],
   "source": [
    "# head and tail functions\n",
    "covid_df.head(5)"
   ],
   "metadata": {
    "collapsed": false,
    "pycharm": {
     "name": "#%%\n"
    }
   }
  },
  {
   "cell_type": "code",
   "execution_count": 24,
   "outputs": [
    {
     "data": {
      "text/plain": "111"
     },
     "execution_count": 24,
     "metadata": {},
     "output_type": "execute_result"
    }
   ],
   "source": [
    "# check for first entry of non-null values\n",
    "covid_df.new_tests.first_valid_index()"
   ],
   "metadata": {
    "collapsed": false,
    "pycharm": {
     "name": "#%%\n"
    }
   }
  },
  {
   "cell_type": "code",
   "execution_count": 25,
   "outputs": [
    {
     "data": {
      "text/plain": "           date  new_cases  new_deaths  new_tests\n108  2020-04-17     3786.0       525.0        NaN\n109  2020-04-18     3493.0       575.0        NaN\n110  2020-04-19     3491.0       480.0        NaN\n111  2020-04-20     3047.0       433.0     7841.0\n112  2020-04-21     2256.0       454.0    28095.0\n113  2020-04-22     2729.0       534.0    44248.0",
      "text/html": "<div>\n<style scoped>\n    .dataframe tbody tr th:only-of-type {\n        vertical-align: middle;\n    }\n\n    .dataframe tbody tr th {\n        vertical-align: top;\n    }\n\n    .dataframe thead th {\n        text-align: right;\n    }\n</style>\n<table border=\"1\" class=\"dataframe\">\n  <thead>\n    <tr style=\"text-align: right;\">\n      <th></th>\n      <th>date</th>\n      <th>new_cases</th>\n      <th>new_deaths</th>\n      <th>new_tests</th>\n    </tr>\n  </thead>\n  <tbody>\n    <tr>\n      <th>108</th>\n      <td>2020-04-17</td>\n      <td>3786.0</td>\n      <td>525.0</td>\n      <td>NaN</td>\n    </tr>\n    <tr>\n      <th>109</th>\n      <td>2020-04-18</td>\n      <td>3493.0</td>\n      <td>575.0</td>\n      <td>NaN</td>\n    </tr>\n    <tr>\n      <th>110</th>\n      <td>2020-04-19</td>\n      <td>3491.0</td>\n      <td>480.0</td>\n      <td>NaN</td>\n    </tr>\n    <tr>\n      <th>111</th>\n      <td>2020-04-20</td>\n      <td>3047.0</td>\n      <td>433.0</td>\n      <td>7841.0</td>\n    </tr>\n    <tr>\n      <th>112</th>\n      <td>2020-04-21</td>\n      <td>2256.0</td>\n      <td>454.0</td>\n      <td>28095.0</td>\n    </tr>\n    <tr>\n      <th>113</th>\n      <td>2020-04-22</td>\n      <td>2729.0</td>\n      <td>534.0</td>\n      <td>44248.0</td>\n    </tr>\n  </tbody>\n</table>\n</div>"
     },
     "execution_count": 25,
     "metadata": {},
     "output_type": "execute_result"
    }
   ],
   "source": [
    "covid_df.loc[108:113]"
   ],
   "metadata": {
    "collapsed": false,
    "pycharm": {
     "name": "#%%\n"
    }
   }
  },
  {
   "cell_type": "code",
   "execution_count": 26,
   "outputs": [
    {
     "data": {
      "text/plain": "           date  new_cases  new_deaths  new_tests\n92   2020-04-01     4053.0       839.0        NaN\n77   2020-03-17     4000.0       347.0        NaN\n210  2020-07-28      168.0         5.0    25341.0\n238  2020-08-25      953.0         4.0    45798.0\n178  2020-06-26      296.0        34.0    28331.0\n225  2020-08-12      412.0         6.0    27330.0\n140  2020-05-19      451.0        99.0    40226.0\n207  2020-07-25      252.0         5.0    28059.0\n22   2020-01-22        0.0         0.0        NaN\n164  2020-06-12      379.0        53.0    37651.0",
      "text/html": "<div>\n<style scoped>\n    .dataframe tbody tr th:only-of-type {\n        vertical-align: middle;\n    }\n\n    .dataframe tbody tr th {\n        vertical-align: top;\n    }\n\n    .dataframe thead th {\n        text-align: right;\n    }\n</style>\n<table border=\"1\" class=\"dataframe\">\n  <thead>\n    <tr style=\"text-align: right;\">\n      <th></th>\n      <th>date</th>\n      <th>new_cases</th>\n      <th>new_deaths</th>\n      <th>new_tests</th>\n    </tr>\n  </thead>\n  <tbody>\n    <tr>\n      <th>92</th>\n      <td>2020-04-01</td>\n      <td>4053.0</td>\n      <td>839.0</td>\n      <td>NaN</td>\n    </tr>\n    <tr>\n      <th>77</th>\n      <td>2020-03-17</td>\n      <td>4000.0</td>\n      <td>347.0</td>\n      <td>NaN</td>\n    </tr>\n    <tr>\n      <th>210</th>\n      <td>2020-07-28</td>\n      <td>168.0</td>\n      <td>5.0</td>\n      <td>25341.0</td>\n    </tr>\n    <tr>\n      <th>238</th>\n      <td>2020-08-25</td>\n      <td>953.0</td>\n      <td>4.0</td>\n      <td>45798.0</td>\n    </tr>\n    <tr>\n      <th>178</th>\n      <td>2020-06-26</td>\n      <td>296.0</td>\n      <td>34.0</td>\n      <td>28331.0</td>\n    </tr>\n    <tr>\n      <th>225</th>\n      <td>2020-08-12</td>\n      <td>412.0</td>\n      <td>6.0</td>\n      <td>27330.0</td>\n    </tr>\n    <tr>\n      <th>140</th>\n      <td>2020-05-19</td>\n      <td>451.0</td>\n      <td>99.0</td>\n      <td>40226.0</td>\n    </tr>\n    <tr>\n      <th>207</th>\n      <td>2020-07-25</td>\n      <td>252.0</td>\n      <td>5.0</td>\n      <td>28059.0</td>\n    </tr>\n    <tr>\n      <th>22</th>\n      <td>2020-01-22</td>\n      <td>0.0</td>\n      <td>0.0</td>\n      <td>NaN</td>\n    </tr>\n    <tr>\n      <th>164</th>\n      <td>2020-06-12</td>\n      <td>379.0</td>\n      <td>53.0</td>\n      <td>37651.0</td>\n    </tr>\n  </tbody>\n</table>\n</div>"
     },
     "execution_count": 26,
     "metadata": {},
     "output_type": "execute_result"
    }
   ],
   "source": [
    "# random sample of rows from data frame\n",
    "covid_df.sample(10)"
   ],
   "metadata": {
    "collapsed": false,
    "pycharm": {
     "name": "#%%\n"
    }
   }
  },
  {
   "cell_type": "code",
   "execution_count": 27,
   "outputs": [
    {
     "data": {
      "text/plain": "4279456.0"
     },
     "execution_count": 27,
     "metadata": {},
     "output_type": "execute_result"
    }
   ],
   "source": [
    "# sum columns\n",
    "covid_df.new_tests.sum()"
   ],
   "metadata": {
    "collapsed": false,
    "pycharm": {
     "name": "#%%\n"
    }
   }
  },
  {
   "cell_type": "code",
   "execution_count": 28,
   "outputs": [
    {
     "data": {
      "text/plain": "0      False\n1      False\n2      False\n3      False\n4      False\n       ...  \n243     True\n244     True\n245    False\n246    False\n247     True\nName: new_cases, Length: 248, dtype: bool"
     },
     "execution_count": 28,
     "metadata": {},
     "output_type": "execute_result"
    }
   ],
   "source": [
    "# filter rows on a criteria\n",
    "# creates a series of boolean values\n",
    "covid_df.new_cases > 1000"
   ],
   "metadata": {
    "collapsed": false,
    "pycharm": {
     "name": "#%%\n"
    }
   }
  },
  {
   "cell_type": "code",
   "execution_count": 29,
   "outputs": [
    {
     "data": {
      "text/plain": "           date  new_cases  new_deaths  new_tests\n68   2020-03-08     1247.0        36.0        NaN\n69   2020-03-09     1492.0       133.0        NaN\n70   2020-03-10     1797.0        98.0        NaN\n72   2020-03-12     2313.0       196.0        NaN\n73   2020-03-13     2651.0       189.0        NaN\n..          ...        ...         ...        ...\n241  2020-08-28     1409.0         5.0    65135.0\n242  2020-08-29     1460.0         9.0    64294.0\n243  2020-08-30     1444.0         1.0    53541.0\n244  2020-08-31     1365.0         4.0    42583.0\n247  2020-09-03     1326.0         6.0        NaN\n\n[72 rows x 4 columns]",
      "text/html": "<div>\n<style scoped>\n    .dataframe tbody tr th:only-of-type {\n        vertical-align: middle;\n    }\n\n    .dataframe tbody tr th {\n        vertical-align: top;\n    }\n\n    .dataframe thead th {\n        text-align: right;\n    }\n</style>\n<table border=\"1\" class=\"dataframe\">\n  <thead>\n    <tr style=\"text-align: right;\">\n      <th></th>\n      <th>date</th>\n      <th>new_cases</th>\n      <th>new_deaths</th>\n      <th>new_tests</th>\n    </tr>\n  </thead>\n  <tbody>\n    <tr>\n      <th>68</th>\n      <td>2020-03-08</td>\n      <td>1247.0</td>\n      <td>36.0</td>\n      <td>NaN</td>\n    </tr>\n    <tr>\n      <th>69</th>\n      <td>2020-03-09</td>\n      <td>1492.0</td>\n      <td>133.0</td>\n      <td>NaN</td>\n    </tr>\n    <tr>\n      <th>70</th>\n      <td>2020-03-10</td>\n      <td>1797.0</td>\n      <td>98.0</td>\n      <td>NaN</td>\n    </tr>\n    <tr>\n      <th>72</th>\n      <td>2020-03-12</td>\n      <td>2313.0</td>\n      <td>196.0</td>\n      <td>NaN</td>\n    </tr>\n    <tr>\n      <th>73</th>\n      <td>2020-03-13</td>\n      <td>2651.0</td>\n      <td>189.0</td>\n      <td>NaN</td>\n    </tr>\n    <tr>\n      <th>...</th>\n      <td>...</td>\n      <td>...</td>\n      <td>...</td>\n      <td>...</td>\n    </tr>\n    <tr>\n      <th>241</th>\n      <td>2020-08-28</td>\n      <td>1409.0</td>\n      <td>5.0</td>\n      <td>65135.0</td>\n    </tr>\n    <tr>\n      <th>242</th>\n      <td>2020-08-29</td>\n      <td>1460.0</td>\n      <td>9.0</td>\n      <td>64294.0</td>\n    </tr>\n    <tr>\n      <th>243</th>\n      <td>2020-08-30</td>\n      <td>1444.0</td>\n      <td>1.0</td>\n      <td>53541.0</td>\n    </tr>\n    <tr>\n      <th>244</th>\n      <td>2020-08-31</td>\n      <td>1365.0</td>\n      <td>4.0</td>\n      <td>42583.0</td>\n    </tr>\n    <tr>\n      <th>247</th>\n      <td>2020-09-03</td>\n      <td>1326.0</td>\n      <td>6.0</td>\n      <td>NaN</td>\n    </tr>\n  </tbody>\n</table>\n<p>72 rows × 4 columns</p>\n</div>"
     },
     "execution_count": 29,
     "metadata": {},
     "output_type": "execute_result"
    }
   ],
   "source": [
    "covid_df[covid_df.new_cases > 1000]"
   ],
   "metadata": {
    "collapsed": false,
    "pycharm": {
     "name": "#%%\n"
    }
   }
  },
  {
   "cell_type": "code",
   "execution_count": 36,
   "outputs": [
    {
     "data": {
      "text/plain": "           date  new_cases  new_deaths  new_tests  positive_rate\n111  2020-04-20     3047.0       433.0     7841.0       0.388598\n112  2020-04-21     2256.0       454.0    28095.0       0.080299\n113  2020-04-22     2729.0       534.0    44248.0       0.061675\n114  2020-04-23     3370.0       437.0    37083.0       0.090877\n115  2020-04-24     2646.0       464.0    95273.0       0.027773",
      "text/html": "<div>\n<style scoped>\n    .dataframe tbody tr th:only-of-type {\n        vertical-align: middle;\n    }\n\n    .dataframe tbody tr th {\n        vertical-align: top;\n    }\n\n    .dataframe thead th {\n        text-align: right;\n    }\n</style>\n<table border=\"1\" class=\"dataframe\">\n  <thead>\n    <tr style=\"text-align: right;\">\n      <th></th>\n      <th>date</th>\n      <th>new_cases</th>\n      <th>new_deaths</th>\n      <th>new_tests</th>\n      <th>positive_rate</th>\n    </tr>\n  </thead>\n  <tbody>\n    <tr>\n      <th>111</th>\n      <td>2020-04-20</td>\n      <td>3047.0</td>\n      <td>433.0</td>\n      <td>7841.0</td>\n      <td>0.388598</td>\n    </tr>\n    <tr>\n      <th>112</th>\n      <td>2020-04-21</td>\n      <td>2256.0</td>\n      <td>454.0</td>\n      <td>28095.0</td>\n      <td>0.080299</td>\n    </tr>\n    <tr>\n      <th>113</th>\n      <td>2020-04-22</td>\n      <td>2729.0</td>\n      <td>534.0</td>\n      <td>44248.0</td>\n      <td>0.061675</td>\n    </tr>\n    <tr>\n      <th>114</th>\n      <td>2020-04-23</td>\n      <td>3370.0</td>\n      <td>437.0</td>\n      <td>37083.0</td>\n      <td>0.090877</td>\n    </tr>\n    <tr>\n      <th>115</th>\n      <td>2020-04-24</td>\n      <td>2646.0</td>\n      <td>464.0</td>\n      <td>95273.0</td>\n      <td>0.027773</td>\n    </tr>\n  </tbody>\n</table>\n</div>"
     },
     "execution_count": 36,
     "metadata": {},
     "output_type": "execute_result"
    }
   ],
   "source": [
    "# math functions on a series\n",
    "# create positive rate series (column)\n",
    "covid_df['positive_rate'] = covid_df.new_cases / covid_df.new_tests\n",
    "\n",
    "covid_df.loc[111:115]"
   ],
   "metadata": {
    "collapsed": false,
    "pycharm": {
     "name": "#%%\n"
    }
   }
  },
  {
   "cell_type": "code",
   "execution_count": 37,
   "outputs": [
    {
     "data": {
      "text/plain": "           date  new_cases  new_deaths  new_tests\n0    2019-12-31        0.0         0.0        NaN\n1    2020-01-01        0.0         0.0        NaN\n2    2020-01-02        0.0         0.0        NaN\n3    2020-01-03        0.0         0.0        NaN\n4    2020-01-04        0.0         0.0        NaN\n..          ...        ...         ...        ...\n243  2020-08-30     1444.0         1.0    53541.0\n244  2020-08-31     1365.0         4.0    42583.0\n245  2020-09-01      996.0         6.0    54395.0\n246  2020-09-02      975.0         8.0        NaN\n247  2020-09-03     1326.0         6.0        NaN\n\n[248 rows x 4 columns]",
      "text/html": "<div>\n<style scoped>\n    .dataframe tbody tr th:only-of-type {\n        vertical-align: middle;\n    }\n\n    .dataframe tbody tr th {\n        vertical-align: top;\n    }\n\n    .dataframe thead th {\n        text-align: right;\n    }\n</style>\n<table border=\"1\" class=\"dataframe\">\n  <thead>\n    <tr style=\"text-align: right;\">\n      <th></th>\n      <th>date</th>\n      <th>new_cases</th>\n      <th>new_deaths</th>\n      <th>new_tests</th>\n    </tr>\n  </thead>\n  <tbody>\n    <tr>\n      <th>0</th>\n      <td>2019-12-31</td>\n      <td>0.0</td>\n      <td>0.0</td>\n      <td>NaN</td>\n    </tr>\n    <tr>\n      <th>1</th>\n      <td>2020-01-01</td>\n      <td>0.0</td>\n      <td>0.0</td>\n      <td>NaN</td>\n    </tr>\n    <tr>\n      <th>2</th>\n      <td>2020-01-02</td>\n      <td>0.0</td>\n      <td>0.0</td>\n      <td>NaN</td>\n    </tr>\n    <tr>\n      <th>3</th>\n      <td>2020-01-03</td>\n      <td>0.0</td>\n      <td>0.0</td>\n      <td>NaN</td>\n    </tr>\n    <tr>\n      <th>4</th>\n      <td>2020-01-04</td>\n      <td>0.0</td>\n      <td>0.0</td>\n      <td>NaN</td>\n    </tr>\n    <tr>\n      <th>...</th>\n      <td>...</td>\n      <td>...</td>\n      <td>...</td>\n      <td>...</td>\n    </tr>\n    <tr>\n      <th>243</th>\n      <td>2020-08-30</td>\n      <td>1444.0</td>\n      <td>1.0</td>\n      <td>53541.0</td>\n    </tr>\n    <tr>\n      <th>244</th>\n      <td>2020-08-31</td>\n      <td>1365.0</td>\n      <td>4.0</td>\n      <td>42583.0</td>\n    </tr>\n    <tr>\n      <th>245</th>\n      <td>2020-09-01</td>\n      <td>996.0</td>\n      <td>6.0</td>\n      <td>54395.0</td>\n    </tr>\n    <tr>\n      <th>246</th>\n      <td>2020-09-02</td>\n      <td>975.0</td>\n      <td>8.0</td>\n      <td>NaN</td>\n    </tr>\n    <tr>\n      <th>247</th>\n      <td>2020-09-03</td>\n      <td>1326.0</td>\n      <td>6.0</td>\n      <td>NaN</td>\n    </tr>\n  </tbody>\n</table>\n<p>248 rows × 4 columns</p>\n</div>"
     },
     "execution_count": 37,
     "metadata": {},
     "output_type": "execute_result"
    }
   ],
   "source": [
    "# remove columns using drop\n",
    "covid_df.drop(columns=['positive_rate'], inplace=True)\n",
    "\n",
    "covid_df"
   ],
   "metadata": {
    "collapsed": false,
    "pycharm": {
     "name": "#%%\n"
    }
   }
  },
  {
   "cell_type": "code",
   "execution_count": 38,
   "outputs": [
    {
     "data": {
      "text/plain": "          date  new_cases  new_deaths  new_tests\n82  2020-03-22     6557.0       795.0        NaN\n87  2020-03-27     6153.0       660.0        NaN\n81  2020-03-21     5986.0       625.0        NaN\n89  2020-03-29     5974.0       887.0        NaN\n88  2020-03-28     5959.0       971.0        NaN\n83  2020-03-23     5560.0       649.0        NaN\n80  2020-03-20     5322.0       429.0        NaN\n85  2020-03-25     5249.0       743.0        NaN\n90  2020-03-30     5217.0       758.0        NaN\n86  2020-03-26     5210.0       685.0        NaN",
      "text/html": "<div>\n<style scoped>\n    .dataframe tbody tr th:only-of-type {\n        vertical-align: middle;\n    }\n\n    .dataframe tbody tr th {\n        vertical-align: top;\n    }\n\n    .dataframe thead th {\n        text-align: right;\n    }\n</style>\n<table border=\"1\" class=\"dataframe\">\n  <thead>\n    <tr style=\"text-align: right;\">\n      <th></th>\n      <th>date</th>\n      <th>new_cases</th>\n      <th>new_deaths</th>\n      <th>new_tests</th>\n    </tr>\n  </thead>\n  <tbody>\n    <tr>\n      <th>82</th>\n      <td>2020-03-22</td>\n      <td>6557.0</td>\n      <td>795.0</td>\n      <td>NaN</td>\n    </tr>\n    <tr>\n      <th>87</th>\n      <td>2020-03-27</td>\n      <td>6153.0</td>\n      <td>660.0</td>\n      <td>NaN</td>\n    </tr>\n    <tr>\n      <th>81</th>\n      <td>2020-03-21</td>\n      <td>5986.0</td>\n      <td>625.0</td>\n      <td>NaN</td>\n    </tr>\n    <tr>\n      <th>89</th>\n      <td>2020-03-29</td>\n      <td>5974.0</td>\n      <td>887.0</td>\n      <td>NaN</td>\n    </tr>\n    <tr>\n      <th>88</th>\n      <td>2020-03-28</td>\n      <td>5959.0</td>\n      <td>971.0</td>\n      <td>NaN</td>\n    </tr>\n    <tr>\n      <th>83</th>\n      <td>2020-03-23</td>\n      <td>5560.0</td>\n      <td>649.0</td>\n      <td>NaN</td>\n    </tr>\n    <tr>\n      <th>80</th>\n      <td>2020-03-20</td>\n      <td>5322.0</td>\n      <td>429.0</td>\n      <td>NaN</td>\n    </tr>\n    <tr>\n      <th>85</th>\n      <td>2020-03-25</td>\n      <td>5249.0</td>\n      <td>743.0</td>\n      <td>NaN</td>\n    </tr>\n    <tr>\n      <th>90</th>\n      <td>2020-03-30</td>\n      <td>5217.0</td>\n      <td>758.0</td>\n      <td>NaN</td>\n    </tr>\n    <tr>\n      <th>86</th>\n      <td>2020-03-26</td>\n      <td>5210.0</td>\n      <td>685.0</td>\n      <td>NaN</td>\n    </tr>\n  </tbody>\n</table>\n</div>"
     },
     "execution_count": 38,
     "metadata": {},
     "output_type": "execute_result"
    }
   ],
   "source": [
    "# sorting rows\n",
    "# 10 days with highest number of cases\n",
    "covid_df.sort_values('new_cases', ascending=False).head(10)"
   ],
   "metadata": {
    "collapsed": false,
    "pycharm": {
     "name": "#%%\n"
    }
   }
  },
  {
   "cell_type": "code",
   "execution_count": 39,
   "outputs": [],
   "source": [
    "# convert column to date\n",
    "covid_df['date'] = pd.to_datetime(covid_df.date)"
   ],
   "metadata": {
    "collapsed": false,
    "pycharm": {
     "name": "#%%\n"
    }
   }
  },
  {
   "cell_type": "code",
   "execution_count": 40,
   "outputs": [
    {
     "data": {
      "text/plain": "0     2019-12-31\n1     2020-01-01\n2     2020-01-02\n3     2020-01-03\n4     2020-01-04\n         ...    \n243   2020-08-30\n244   2020-08-31\n245   2020-09-01\n246   2020-09-02\n247   2020-09-03\nName: date, Length: 248, dtype: datetime64[ns]"
     },
     "execution_count": 40,
     "metadata": {},
     "output_type": "execute_result"
    }
   ],
   "source": [
    "covid_df.date"
   ],
   "metadata": {
    "collapsed": false,
    "pycharm": {
     "name": "#%%\n"
    }
   }
  },
  {
   "cell_type": "code",
   "execution_count": 42,
   "outputs": [],
   "source": [
    "# pull out day, month, year, weekday, etc\n",
    "covid_df['year'] = pd.DatetimeIndex(covid_df.date).year\n",
    "covid_df['month'] = pd.DatetimeIndex(covid_df.date).month\n",
    "covid_df['day'] = pd.DatetimeIndex(covid_df.date).day\n",
    "covid_df['weekday'] = pd.DatetimeIndex(covid_df.date).weekday"
   ],
   "metadata": {
    "collapsed": false,
    "pycharm": {
     "name": "#%%\n"
    }
   }
  },
  {
   "cell_type": "code",
   "execution_count": 43,
   "outputs": [
    {
     "data": {
      "text/plain": "          date  new_cases  new_deaths  new_tests  year  month  day  weekday\n0   2019-12-31        0.0         0.0        NaN  2019     12   31        1\n1   2020-01-01        0.0         0.0        NaN  2020      1    1        2\n2   2020-01-02        0.0         0.0        NaN  2020      1    2        3\n3   2020-01-03        0.0         0.0        NaN  2020      1    3        4\n4   2020-01-04        0.0         0.0        NaN  2020      1    4        5\n..         ...        ...         ...        ...   ...    ...  ...      ...\n243 2020-08-30     1444.0         1.0    53541.0  2020      8   30        6\n244 2020-08-31     1365.0         4.0    42583.0  2020      8   31        0\n245 2020-09-01      996.0         6.0    54395.0  2020      9    1        1\n246 2020-09-02      975.0         8.0        NaN  2020      9    2        2\n247 2020-09-03     1326.0         6.0        NaN  2020      9    3        3\n\n[248 rows x 8 columns]",
      "text/html": "<div>\n<style scoped>\n    .dataframe tbody tr th:only-of-type {\n        vertical-align: middle;\n    }\n\n    .dataframe tbody tr th {\n        vertical-align: top;\n    }\n\n    .dataframe thead th {\n        text-align: right;\n    }\n</style>\n<table border=\"1\" class=\"dataframe\">\n  <thead>\n    <tr style=\"text-align: right;\">\n      <th></th>\n      <th>date</th>\n      <th>new_cases</th>\n      <th>new_deaths</th>\n      <th>new_tests</th>\n      <th>year</th>\n      <th>month</th>\n      <th>day</th>\n      <th>weekday</th>\n    </tr>\n  </thead>\n  <tbody>\n    <tr>\n      <th>0</th>\n      <td>2019-12-31</td>\n      <td>0.0</td>\n      <td>0.0</td>\n      <td>NaN</td>\n      <td>2019</td>\n      <td>12</td>\n      <td>31</td>\n      <td>1</td>\n    </tr>\n    <tr>\n      <th>1</th>\n      <td>2020-01-01</td>\n      <td>0.0</td>\n      <td>0.0</td>\n      <td>NaN</td>\n      <td>2020</td>\n      <td>1</td>\n      <td>1</td>\n      <td>2</td>\n    </tr>\n    <tr>\n      <th>2</th>\n      <td>2020-01-02</td>\n      <td>0.0</td>\n      <td>0.0</td>\n      <td>NaN</td>\n      <td>2020</td>\n      <td>1</td>\n      <td>2</td>\n      <td>3</td>\n    </tr>\n    <tr>\n      <th>3</th>\n      <td>2020-01-03</td>\n      <td>0.0</td>\n      <td>0.0</td>\n      <td>NaN</td>\n      <td>2020</td>\n      <td>1</td>\n      <td>3</td>\n      <td>4</td>\n    </tr>\n    <tr>\n      <th>4</th>\n      <td>2020-01-04</td>\n      <td>0.0</td>\n      <td>0.0</td>\n      <td>NaN</td>\n      <td>2020</td>\n      <td>1</td>\n      <td>4</td>\n      <td>5</td>\n    </tr>\n    <tr>\n      <th>...</th>\n      <td>...</td>\n      <td>...</td>\n      <td>...</td>\n      <td>...</td>\n      <td>...</td>\n      <td>...</td>\n      <td>...</td>\n      <td>...</td>\n    </tr>\n    <tr>\n      <th>243</th>\n      <td>2020-08-30</td>\n      <td>1444.0</td>\n      <td>1.0</td>\n      <td>53541.0</td>\n      <td>2020</td>\n      <td>8</td>\n      <td>30</td>\n      <td>6</td>\n    </tr>\n    <tr>\n      <th>244</th>\n      <td>2020-08-31</td>\n      <td>1365.0</td>\n      <td>4.0</td>\n      <td>42583.0</td>\n      <td>2020</td>\n      <td>8</td>\n      <td>31</td>\n      <td>0</td>\n    </tr>\n    <tr>\n      <th>245</th>\n      <td>2020-09-01</td>\n      <td>996.0</td>\n      <td>6.0</td>\n      <td>54395.0</td>\n      <td>2020</td>\n      <td>9</td>\n      <td>1</td>\n      <td>1</td>\n    </tr>\n    <tr>\n      <th>246</th>\n      <td>2020-09-02</td>\n      <td>975.0</td>\n      <td>8.0</td>\n      <td>NaN</td>\n      <td>2020</td>\n      <td>9</td>\n      <td>2</td>\n      <td>2</td>\n    </tr>\n    <tr>\n      <th>247</th>\n      <td>2020-09-03</td>\n      <td>1326.0</td>\n      <td>6.0</td>\n      <td>NaN</td>\n      <td>2020</td>\n      <td>9</td>\n      <td>3</td>\n      <td>3</td>\n    </tr>\n  </tbody>\n</table>\n<p>248 rows × 8 columns</p>\n</div>"
     },
     "execution_count": 43,
     "metadata": {},
     "output_type": "execute_result"
    }
   ],
   "source": [
    "covid_df"
   ],
   "metadata": {
    "collapsed": false,
    "pycharm": {
     "name": "#%%\n"
    }
   }
  },
  {
   "cell_type": "code",
   "execution_count": 45,
   "outputs": [
    {
     "data": {
      "text/plain": "new_cases       29073.0\nnew_deaths       5658.0\nnew_tests     1078720.0\ndtype: float64"
     },
     "execution_count": 45,
     "metadata": {},
     "output_type": "execute_result"
    }
   ],
   "source": [
    "# summary stats for month of May\n",
    "covid_df_may = covid_df[covid_df.month == 5]\n",
    "covid_df_may_stats = covid_df_may[['new_cases','new_deaths','new_tests']]\n",
    "covid_df_may_stats.sum()"
   ],
   "metadata": {
    "collapsed": false,
    "pycharm": {
     "name": "#%%\n"
    }
   }
  },
  {
   "cell_type": "code",
   "execution_count": 48,
   "outputs": [
    {
     "data": {
      "text/plain": "            new_cases  new_deaths  new_tests\nyear month                                  \n2019 12           0.0         0.0        0.0\n2020 1            3.0         0.0        0.0\n     2          885.0        21.0        0.0\n     3       100851.0     11570.0        0.0\n     4       101852.0     16091.0   419591.0\n     5        29073.0      5658.0  1078720.0\n     6         7772.0      1404.0   830354.0\n     7         6722.0       388.0   797692.0\n     8        21060.0       345.0  1098704.0\n     9         3297.0        20.0    54395.0",
      "text/html": "<div>\n<style scoped>\n    .dataframe tbody tr th:only-of-type {\n        vertical-align: middle;\n    }\n\n    .dataframe tbody tr th {\n        vertical-align: top;\n    }\n\n    .dataframe thead th {\n        text-align: right;\n    }\n</style>\n<table border=\"1\" class=\"dataframe\">\n  <thead>\n    <tr style=\"text-align: right;\">\n      <th></th>\n      <th></th>\n      <th>new_cases</th>\n      <th>new_deaths</th>\n      <th>new_tests</th>\n    </tr>\n    <tr>\n      <th>year</th>\n      <th>month</th>\n      <th></th>\n      <th></th>\n      <th></th>\n    </tr>\n  </thead>\n  <tbody>\n    <tr>\n      <th>2019</th>\n      <th>12</th>\n      <td>0.0</td>\n      <td>0.0</td>\n      <td>0.0</td>\n    </tr>\n    <tr>\n      <th rowspan=\"9\" valign=\"top\">2020</th>\n      <th>1</th>\n      <td>3.0</td>\n      <td>0.0</td>\n      <td>0.0</td>\n    </tr>\n    <tr>\n      <th>2</th>\n      <td>885.0</td>\n      <td>21.0</td>\n      <td>0.0</td>\n    </tr>\n    <tr>\n      <th>3</th>\n      <td>100851.0</td>\n      <td>11570.0</td>\n      <td>0.0</td>\n    </tr>\n    <tr>\n      <th>4</th>\n      <td>101852.0</td>\n      <td>16091.0</td>\n      <td>419591.0</td>\n    </tr>\n    <tr>\n      <th>5</th>\n      <td>29073.0</td>\n      <td>5658.0</td>\n      <td>1078720.0</td>\n    </tr>\n    <tr>\n      <th>6</th>\n      <td>7772.0</td>\n      <td>1404.0</td>\n      <td>830354.0</td>\n    </tr>\n    <tr>\n      <th>7</th>\n      <td>6722.0</td>\n      <td>388.0</td>\n      <td>797692.0</td>\n    </tr>\n    <tr>\n      <th>8</th>\n      <td>21060.0</td>\n      <td>345.0</td>\n      <td>1098704.0</td>\n    </tr>\n    <tr>\n      <th>9</th>\n      <td>3297.0</td>\n      <td>20.0</td>\n      <td>54395.0</td>\n    </tr>\n  </tbody>\n</table>\n</div>"
     },
     "execution_count": 48,
     "metadata": {},
     "output_type": "execute_result"
    }
   ],
   "source": [
    "# group by\n",
    "covid_month_df = covid_df.groupby(['year','month'])[['new_cases','new_deaths','new_tests']].sum()\n",
    "covid_month_df"
   ],
   "metadata": {
    "collapsed": false,
    "pycharm": {
     "name": "#%%\n"
    }
   }
  },
  {
   "cell_type": "code",
   "execution_count": 50,
   "outputs": [
    {
     "data": {
      "text/plain": "   location continent  population  life_expectancy  \\\n97    Italy    Europe  60461828.0            83.51   \n\n    hospital_beds_per_thousand  gdp_per_capita  \n97                        3.18       35220.084  ",
      "text/html": "<div>\n<style scoped>\n    .dataframe tbody tr th:only-of-type {\n        vertical-align: middle;\n    }\n\n    .dataframe tbody tr th {\n        vertical-align: top;\n    }\n\n    .dataframe thead th {\n        text-align: right;\n    }\n</style>\n<table border=\"1\" class=\"dataframe\">\n  <thead>\n    <tr style=\"text-align: right;\">\n      <th></th>\n      <th>location</th>\n      <th>continent</th>\n      <th>population</th>\n      <th>life_expectancy</th>\n      <th>hospital_beds_per_thousand</th>\n      <th>gdp_per_capita</th>\n    </tr>\n  </thead>\n  <tbody>\n    <tr>\n      <th>97</th>\n      <td>Italy</td>\n      <td>Europe</td>\n      <td>60461828.0</td>\n      <td>83.51</td>\n      <td>3.18</td>\n      <td>35220.084</td>\n    </tr>\n  </tbody>\n</table>\n</div>"
     },
     "execution_count": 50,
     "metadata": {},
     "output_type": "execute_result"
    }
   ],
   "source": [
    "# new data frame of location data\n",
    "urlretrieve('https://gist.githubusercontent.com/aakashns/8684589ef4f266116cdce023377fc9c8/raw/99ce3826b2a9d1e6d0bde7e9e559fc8b6e9ac88b/locations.csv',\n",
    "            'data/locations.csv')\n",
    "locations_df = pd.read_csv('data/locations.csv')\n",
    "locations_df[locations_df.location == 'Italy']"
   ],
   "metadata": {
    "collapsed": false,
    "pycharm": {
     "name": "#%%\n"
    }
   }
  },
  {
   "cell_type": "code",
   "execution_count": 52,
   "outputs": [],
   "source": [
    "# create location column in covid_df\n",
    "covid_df['location'] = 'Italy'"
   ],
   "metadata": {
    "collapsed": false,
    "pycharm": {
     "name": "#%%\n"
    }
   }
  },
  {
   "cell_type": "code",
   "execution_count": 56,
   "outputs": [],
   "source": [
    "# calculate some total values\n",
    "covid_df['total_cases'] = covid_df.new_cases.cumsum()\n",
    "covid_df['total_deaths'] = covid_df.new_deaths.cumsum()\n",
    "covid_df['total_tests'] = covid_df.new_tests.cumsum() + 935310"
   ],
   "metadata": {
    "collapsed": false,
    "pycharm": {
     "name": "#%%\n"
    }
   }
  },
  {
   "cell_type": "code",
   "execution_count": 57,
   "outputs": [],
   "source": [
    "# merge with Italy data from above\n",
    "merged_df = covid_df.merge(locations_df, on='location')"
   ],
   "metadata": {
    "collapsed": false,
    "pycharm": {
     "name": "#%%\n"
    }
   }
  },
  {
   "cell_type": "code",
   "source": [
    "merged_df.head(10)"
   ],
   "metadata": {
    "collapsed": false,
    "pycharm": {
     "name": "#%%\n"
    }
   },
   "execution_count": 58,
   "outputs": [
    {
     "data": {
      "text/plain": "        date  new_cases  new_deaths  new_tests  year  month  day  weekday  \\\n0 2019-12-31        0.0         0.0        NaN  2019     12   31        1   \n1 2020-01-01        0.0         0.0        NaN  2020      1    1        2   \n2 2020-01-02        0.0         0.0        NaN  2020      1    2        3   \n3 2020-01-03        0.0         0.0        NaN  2020      1    3        4   \n4 2020-01-04        0.0         0.0        NaN  2020      1    4        5   \n5 2020-01-05        0.0         0.0        NaN  2020      1    5        6   \n6 2020-01-06        0.0         0.0        NaN  2020      1    6        0   \n7 2020-01-07        0.0         0.0        NaN  2020      1    7        1   \n8 2020-01-08        0.0         0.0        NaN  2020      1    8        2   \n9 2020-01-09        0.0         0.0        NaN  2020      1    9        3   \n\n  location  total_cases  total_deaths  total_tests continent  population  \\\n0    Italy          0.0           0.0          NaN    Europe  60461828.0   \n1    Italy          0.0           0.0          NaN    Europe  60461828.0   \n2    Italy          0.0           0.0          NaN    Europe  60461828.0   \n3    Italy          0.0           0.0          NaN    Europe  60461828.0   \n4    Italy          0.0           0.0          NaN    Europe  60461828.0   \n5    Italy          0.0           0.0          NaN    Europe  60461828.0   \n6    Italy          0.0           0.0          NaN    Europe  60461828.0   \n7    Italy          0.0           0.0          NaN    Europe  60461828.0   \n8    Italy          0.0           0.0          NaN    Europe  60461828.0   \n9    Italy          0.0           0.0          NaN    Europe  60461828.0   \n\n   life_expectancy  hospital_beds_per_thousand  gdp_per_capita  \n0            83.51                        3.18       35220.084  \n1            83.51                        3.18       35220.084  \n2            83.51                        3.18       35220.084  \n3            83.51                        3.18       35220.084  \n4            83.51                        3.18       35220.084  \n5            83.51                        3.18       35220.084  \n6            83.51                        3.18       35220.084  \n7            83.51                        3.18       35220.084  \n8            83.51                        3.18       35220.084  \n9            83.51                        3.18       35220.084  ",
      "text/html": "<div>\n<style scoped>\n    .dataframe tbody tr th:only-of-type {\n        vertical-align: middle;\n    }\n\n    .dataframe tbody tr th {\n        vertical-align: top;\n    }\n\n    .dataframe thead th {\n        text-align: right;\n    }\n</style>\n<table border=\"1\" class=\"dataframe\">\n  <thead>\n    <tr style=\"text-align: right;\">\n      <th></th>\n      <th>date</th>\n      <th>new_cases</th>\n      <th>new_deaths</th>\n      <th>new_tests</th>\n      <th>year</th>\n      <th>month</th>\n      <th>day</th>\n      <th>weekday</th>\n      <th>location</th>\n      <th>total_cases</th>\n      <th>total_deaths</th>\n      <th>total_tests</th>\n      <th>continent</th>\n      <th>population</th>\n      <th>life_expectancy</th>\n      <th>hospital_beds_per_thousand</th>\n      <th>gdp_per_capita</th>\n    </tr>\n  </thead>\n  <tbody>\n    <tr>\n      <th>0</th>\n      <td>2019-12-31</td>\n      <td>0.0</td>\n      <td>0.0</td>\n      <td>NaN</td>\n      <td>2019</td>\n      <td>12</td>\n      <td>31</td>\n      <td>1</td>\n      <td>Italy</td>\n      <td>0.0</td>\n      <td>0.0</td>\n      <td>NaN</td>\n      <td>Europe</td>\n      <td>60461828.0</td>\n      <td>83.51</td>\n      <td>3.18</td>\n      <td>35220.084</td>\n    </tr>\n    <tr>\n      <th>1</th>\n      <td>2020-01-01</td>\n      <td>0.0</td>\n      <td>0.0</td>\n      <td>NaN</td>\n      <td>2020</td>\n      <td>1</td>\n      <td>1</td>\n      <td>2</td>\n      <td>Italy</td>\n      <td>0.0</td>\n      <td>0.0</td>\n      <td>NaN</td>\n      <td>Europe</td>\n      <td>60461828.0</td>\n      <td>83.51</td>\n      <td>3.18</td>\n      <td>35220.084</td>\n    </tr>\n    <tr>\n      <th>2</th>\n      <td>2020-01-02</td>\n      <td>0.0</td>\n      <td>0.0</td>\n      <td>NaN</td>\n      <td>2020</td>\n      <td>1</td>\n      <td>2</td>\n      <td>3</td>\n      <td>Italy</td>\n      <td>0.0</td>\n      <td>0.0</td>\n      <td>NaN</td>\n      <td>Europe</td>\n      <td>60461828.0</td>\n      <td>83.51</td>\n      <td>3.18</td>\n      <td>35220.084</td>\n    </tr>\n    <tr>\n      <th>3</th>\n      <td>2020-01-03</td>\n      <td>0.0</td>\n      <td>0.0</td>\n      <td>NaN</td>\n      <td>2020</td>\n      <td>1</td>\n      <td>3</td>\n      <td>4</td>\n      <td>Italy</td>\n      <td>0.0</td>\n      <td>0.0</td>\n      <td>NaN</td>\n      <td>Europe</td>\n      <td>60461828.0</td>\n      <td>83.51</td>\n      <td>3.18</td>\n      <td>35220.084</td>\n    </tr>\n    <tr>\n      <th>4</th>\n      <td>2020-01-04</td>\n      <td>0.0</td>\n      <td>0.0</td>\n      <td>NaN</td>\n      <td>2020</td>\n      <td>1</td>\n      <td>4</td>\n      <td>5</td>\n      <td>Italy</td>\n      <td>0.0</td>\n      <td>0.0</td>\n      <td>NaN</td>\n      <td>Europe</td>\n      <td>60461828.0</td>\n      <td>83.51</td>\n      <td>3.18</td>\n      <td>35220.084</td>\n    </tr>\n    <tr>\n      <th>5</th>\n      <td>2020-01-05</td>\n      <td>0.0</td>\n      <td>0.0</td>\n      <td>NaN</td>\n      <td>2020</td>\n      <td>1</td>\n      <td>5</td>\n      <td>6</td>\n      <td>Italy</td>\n      <td>0.0</td>\n      <td>0.0</td>\n      <td>NaN</td>\n      <td>Europe</td>\n      <td>60461828.0</td>\n      <td>83.51</td>\n      <td>3.18</td>\n      <td>35220.084</td>\n    </tr>\n    <tr>\n      <th>6</th>\n      <td>2020-01-06</td>\n      <td>0.0</td>\n      <td>0.0</td>\n      <td>NaN</td>\n      <td>2020</td>\n      <td>1</td>\n      <td>6</td>\n      <td>0</td>\n      <td>Italy</td>\n      <td>0.0</td>\n      <td>0.0</td>\n      <td>NaN</td>\n      <td>Europe</td>\n      <td>60461828.0</td>\n      <td>83.51</td>\n      <td>3.18</td>\n      <td>35220.084</td>\n    </tr>\n    <tr>\n      <th>7</th>\n      <td>2020-01-07</td>\n      <td>0.0</td>\n      <td>0.0</td>\n      <td>NaN</td>\n      <td>2020</td>\n      <td>1</td>\n      <td>7</td>\n      <td>1</td>\n      <td>Italy</td>\n      <td>0.0</td>\n      <td>0.0</td>\n      <td>NaN</td>\n      <td>Europe</td>\n      <td>60461828.0</td>\n      <td>83.51</td>\n      <td>3.18</td>\n      <td>35220.084</td>\n    </tr>\n    <tr>\n      <th>8</th>\n      <td>2020-01-08</td>\n      <td>0.0</td>\n      <td>0.0</td>\n      <td>NaN</td>\n      <td>2020</td>\n      <td>1</td>\n      <td>8</td>\n      <td>2</td>\n      <td>Italy</td>\n      <td>0.0</td>\n      <td>0.0</td>\n      <td>NaN</td>\n      <td>Europe</td>\n      <td>60461828.0</td>\n      <td>83.51</td>\n      <td>3.18</td>\n      <td>35220.084</td>\n    </tr>\n    <tr>\n      <th>9</th>\n      <td>2020-01-09</td>\n      <td>0.0</td>\n      <td>0.0</td>\n      <td>NaN</td>\n      <td>2020</td>\n      <td>1</td>\n      <td>9</td>\n      <td>3</td>\n      <td>Italy</td>\n      <td>0.0</td>\n      <td>0.0</td>\n      <td>NaN</td>\n      <td>Europe</td>\n      <td>60461828.0</td>\n      <td>83.51</td>\n      <td>3.18</td>\n      <td>35220.084</td>\n    </tr>\n  </tbody>\n</table>\n</div>"
     },
     "execution_count": 58,
     "metadata": {},
     "output_type": "execute_result"
    }
   ]
  },
  {
   "cell_type": "code",
   "execution_count": 59,
   "outputs": [],
   "source": [
    "# create some new columns of data\n",
    "merged_df['cases_per_million'] = merged_df.total_cases * 1e6 / merged_df.population\n",
    "merged_df['deaths_per_million'] = merged_df.total_deaths * 1e6 / merged_df.population\n",
    "merged_df['tests_per_million'] = merged_df.total_tests * 1e6 / merged_df.population"
   ],
   "metadata": {
    "collapsed": false,
    "pycharm": {
     "name": "#%%\n"
    }
   }
  },
  {
   "cell_type": "code",
   "execution_count": 60,
   "outputs": [],
   "source": [
    "# create new df to save results of calculations\n",
    "result_df = merged_df[['date',\n",
    "                       'new_cases',\n",
    "                       'total_cases',\n",
    "                       'new_deaths',\n",
    "                       'total_deaths',\n",
    "                       'new_tests',\n",
    "                       'total_tests',\n",
    "                       'cases_per_million',\n",
    "                       'deaths_per_million',\n",
    "                       'tests_per_million']]"
   ],
   "metadata": {
    "collapsed": false,
    "pycharm": {
     "name": "#%%\n"
    }
   }
  },
  {
   "cell_type": "code",
   "execution_count": 61,
   "outputs": [],
   "source": [
    "# save csv file of results_df\n",
    "result_df.to_csv('data/results.csv', index=False)"
   ],
   "metadata": {
    "collapsed": false,
    "pycharm": {
     "name": "#%%\n"
    }
   }
  }
 ],
 "metadata": {
  "kernelspec": {
   "display_name": "Python 3",
   "language": "python",
   "name": "python3"
  },
  "language_info": {
   "codemirror_mode": {
    "name": "ipython",
    "version": 2
   },
   "file_extension": ".py",
   "mimetype": "text/x-python",
   "name": "python",
   "nbconvert_exporter": "python",
   "pygments_lexer": "ipython2",
   "version": "2.7.6"
  }
 },
 "nbformat": 4,
 "nbformat_minor": 0
}