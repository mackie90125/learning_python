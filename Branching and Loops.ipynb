{
 "cells": [
  {
   "cell_type": "markdown",
   "metadata": {
    "collapsed": true,
    "pycharm": {
     "name": "#%% md\n"
    }
   },
   "source": [
    "# Data Analyis with Python Course\n",
    "\n",
    "## Branching and Loops\n",
    "\n",
    "## freeCodeCamp.org YouTube"
   ]
  },
  {
   "cell_type": "code",
   "execution_count": 2,
   "outputs": [
    {
     "name": "stdout",
     "output_type": "stream",
     "text": [
      "The number 35 is not even\n"
     ]
    }
   ],
   "source": [
    "# if and else statements\n",
    "a_number = 35\n",
    "\n",
    "if a_number % 2 == 0:\n",
    "    print('The given number {} is even.'.format(a_number))\n",
    "else: print('The number {} is not even.'.format(a_number))"
   ],
   "metadata": {
    "collapsed": false,
    "pycharm": {
     "name": "#%%\n"
    }
   }
  },
  {
   "cell_type": "code",
   "execution_count": 6,
   "outputs": [
    {
     "name": "stdout",
     "output_type": "stream",
     "text": [
      "Today is an exciting Tuesday\n"
     ]
    }
   ],
   "source": [
    "today = \"Tuesday\"\n",
    "\n",
    "if today == \"Sunday\":\n",
    "    print('Today is Sunday funday.')\n",
    "elif today == \"Monday\":\n",
    "    print('Today we have a case of the Mondays.')\n",
    "elif today == \"Tuesday\":\n",
    "    print('Today is an exciting Tuesday')\n",
    "elif today == \"Wednesday\":\n",
    "    print('Today is Wednesday.')\n",
    "elif today == \"Tuesday\":\n",
    "    print('This won\\'t print')"
   ],
   "metadata": {
    "collapsed": false,
    "pycharm": {
     "name": "#%%\n"
    }
   }
  },
  {
   "cell_type": "code",
   "execution_count": 7,
   "outputs": [
    {
     "data": {
      "text/plain": "'odd'"
     },
     "execution_count": 7,
     "metadata": {},
     "output_type": "execute_result"
    }
   ],
   "source": [
    "parity = 'even' if a_number % 2 == 0 else 'odd'\n",
    "parity"
   ],
   "metadata": {
    "collapsed": false,
    "pycharm": {
     "name": "#%%\n"
    }
   }
  },
  {
   "cell_type": "code",
   "execution_count": 10,
   "outputs": [],
   "source": [
    "# use command pass to do nothing\n",
    "a_number = 32\n",
    "\n",
    "if a_number % 2 == 0:\n",
    "    pass\n",
    "elif a_number % 3 == 0:\n",
    "    print('Input {} is divisible by 3 but not by 2'.format(a_number))"
   ],
   "metadata": {
    "collapsed": false,
    "pycharm": {
     "name": "#%%\n"
    }
   }
  },
  {
   "cell_type": "code",
   "execution_count": 11,
   "outputs": [
    {
     "name": "stdout",
     "output_type": "stream",
     "text": [
      "The factorial of 100 is: 93326215443944152681699238856266700490715968264381621468592963895217599993229915608941463976156518286253697920827223758251185210916864000000000000000000000000\n"
     ]
    }
   ],
   "source": [
    "# calculate factorials using while loop\n",
    "result = 1\n",
    "i = 1\n",
    "\n",
    "while i <= 100:\n",
    "    result *= i\n",
    "    i += 1\n",
    "\n",
    "print('The factorial of 100 is: {}'.format(result))"
   ],
   "metadata": {
    "collapsed": false,
    "pycharm": {
     "name": "#%%\n"
    }
   }
  },
  {
   "cell_type": "code",
   "execution_count": 13,
   "outputs": [
    {
     "name": "stdout",
     "output_type": "stream",
     "text": [
      "The factorial of 1000 is: 402387260077093773543702433923003985719374864210714632543799910429938512398629020592044208486969404800479988610197196058631666872994808558901323829669944590997424504087073759918823627727188732519779505950995276120874975462497043601418278094646496291056393887437886487337119181045825783647849977012476632889835955735432513185323958463075557409114262417474349347553428646576611667797396668820291207379143853719588249808126867838374559731746136085379534524221586593201928090878297308431392844403281231558611036976801357304216168747609675871348312025478589320767169132448426236131412508780208000261683151027341827977704784635868170164365024153691398281264810213092761244896359928705114964975419909342221566832572080821333186116811553615836546984046708975602900950537616475847728421889679646244945160765353408198901385442487984959953319101723355556602139450399736280750137837615307127761926849034352625200015888535147331611702103968175921510907788019393178114194545257223865541461062892187960223838971476088506276862967146674697562911234082439208160153780889893964518263243671616762179168909779911903754031274622289988005195444414282012187361745992642956581746628302955570299024324153181617210465832036786906117260158783520751516284225540265170483304226143974286933061690897968482590125458327168226458066526769958652682272807075781391858178889652208164348344825993266043367660176999612831860788386150279465955131156552036093988180612138558600301435694527224206344631797460594682573103790084024432438465657245014402821885252470935190620929023136493273497565513958720559654228749774011413346962715422845862377387538230483865688976461927383814900140767310446640259899490222221765904339901886018566526485061799702356193897017860040811889729918311021171229845901641921068884387121855646124960798722908519296819372388642614839657382291123125024186649353143970137428531926649875337218940694281434118520158014123344828015051399694290153483077644569099073152433278288269864602789864321139083506217095002597389863554277196742822248757586765752344220207573630569498825087968928162753848863396909959826280956121450994871701244516461260379029309120889086942028510640182154399457156805941872748998094254742173582401063677404595741785160829230135358081840096996372524230560855903700624271243416909004153690105933983835777939410970027753472000000000000000000000000000000000000000000000000000000000000000000000000000000000000000000000000000000000000000000000000000000000000000000000000000000000000000000000000000000000000000000000000000000000000000000000000000000000000000000000000000000000\n",
      "CPU times: user 1.04 ms, sys: 124 µs, total: 1.16 ms\n",
      "Wall time: 1.13 ms\n"
     ]
    }
   ],
   "source": [
    "# first line will include a time calculation for this step\n",
    "%%time\n",
    "\n",
    "result = 1\n",
    "i = 1\n",
    "\n",
    "while i <= 1000:\n",
    "    result *= i\n",
    "    i += 1\n",
    "\n",
    "print('The factorial of 1000 is: {}'.format(result))"
   ],
   "metadata": {
    "collapsed": false,
    "pycharm": {
     "name": "#%%\n"
    }
   }
  },
  {
   "cell_type": "code",
   "execution_count": 1,
   "outputs": [
    {
     "name": "stdout",
     "output_type": "stream",
     "text": [
      "1\n",
      "2\n",
      "3\n",
      "4\n"
     ]
    }
   ],
   "source": [
    "# break statement in loops\n",
    "i = 1\n",
    "while i < 100:\n",
    "    print(i)\n",
    "    if i == 4:\n",
    "        break\n",
    "    i += 1"
   ],
   "metadata": {
    "collapsed": false,
    "pycharm": {
     "name": "#%%\n"
    }
   }
  },
  {
   "cell_type": "code",
   "execution_count": 3,
   "outputs": [
    {
     "name": "stdout",
     "output_type": "stream",
     "text": [
      "1\n",
      "Skipping 1\n",
      "2\n",
      "Multiplying by 2\n",
      "3\n",
      "Skipping 3\n",
      "4\n",
      "Multiplying by 2\n",
      "5\n",
      "Skipping 5\n",
      "6\n",
      "Multiplying by 2\n",
      "7\n",
      "Skipping 7\n",
      "8\n",
      "Multiplying by 2\n",
      "9\n",
      "Skipping 9\n",
      "10\n",
      "Multiplying by 2\n",
      "11\n",
      "Skipping 11\n"
     ]
    }
   ],
   "source": [
    "# start next loop with continue\n",
    "i = 0\n",
    "result = 1\n",
    "while i <= 10:\n",
    "    i += 1\n",
    "    print(i)\n",
    "    if i % 2 == 0:\n",
    "        result *= 2\n",
    "        print('Multiplying by 2'.format(i))\n",
    "        continue\n",
    "    print('Skipping {}'.format(i))"
   ],
   "metadata": {
    "collapsed": false,
    "pycharm": {
     "name": "#%%\n"
    }
   }
  },
  {
   "cell_type": "code",
   "execution_count": 4,
   "outputs": [
    {
     "name": "stdout",
     "output_type": "stream",
     "text": [
      "M\n",
      "o\n",
      "n\n",
      "d\n",
      "a\n",
      "y\n"
     ]
    }
   ],
   "source": [
    "# while loops\n",
    "\n",
    "for char in 'Monday':\n",
    "    print(char)"
   ],
   "metadata": {
    "collapsed": false,
    "pycharm": {
     "name": "#%%\n"
    }
   }
  },
  {
   "cell_type": "code",
   "execution_count": 5,
   "outputs": [
    {
     "name": "stdout",
     "output_type": "stream",
     "text": [
      "1\n",
      "2\n",
      "3\n",
      "4\n",
      "5\n"
     ]
    }
   ],
   "source": [
    "for i in [1,2,3,4,5]:\n",
    "    print(i)"
   ],
   "metadata": {
    "collapsed": false,
    "pycharm": {
     "name": "#%%\n"
    }
   }
  },
  {
   "cell_type": "code",
   "execution_count": 8,
   "outputs": [
    {
     "name": "stdout",
     "output_type": "stream",
     "text": [
      "name : John Doe\n",
      "age : 39\n",
      "sex : Male\n",
      "married : True\n"
     ]
    }
   ],
   "source": [
    "# loop through keys in a dictionary\n",
    "person1 = {\n",
    "    'name' : 'John Doe',\n",
    "    'age' :39,\n",
    "    'sex' : 'Male',\n",
    "    'married' : True\n",
    "}\n",
    "\n",
    "for key in person1:\n",
    "    print(key, \":\", person1[key])"
   ],
   "metadata": {
    "collapsed": false,
    "pycharm": {
     "name": "#%%\n"
    }
   }
  },
  {
   "cell_type": "code",
   "execution_count": 11,
   "outputs": [
    {
     "name": "stdout",
     "output_type": "stream",
     "text": [
      "0\n",
      "1\n",
      "2\n",
      "3\n",
      "4\n"
     ]
    }
   ],
   "source": [
    "for i in range(5):\n",
    "    print(i)"
   ],
   "metadata": {
    "collapsed": false,
    "pycharm": {
     "name": "#%%\n"
    }
   }
  },
  {
   "cell_type": "code",
   "execution_count": 13,
   "outputs": [
    {
     "name": "stdout",
     "output_type": "stream",
     "text": [
      "4\n",
      "5\n",
      "6\n",
      "7\n",
      "8\n"
     ]
    }
   ],
   "source": [
    "for i in range(4,9):\n",
    "    print(i)"
   ],
   "metadata": {
    "collapsed": false,
    "pycharm": {
     "name": "#%%\n"
    }
   }
  },
  {
   "cell_type": "code",
   "execution_count": 14,
   "outputs": [
    {
     "name": "stdout",
     "output_type": "stream",
     "text": [
      "The value at position 0 is Monday\n",
      "The value at position 1 is Tuesday\n",
      "The value at position 2 is Wednesday\n",
      "The value at position 3 is Thursday\n",
      "The value at position 4 is Friday\n"
     ]
    }
   ],
   "source": [
    "days = [\"Monday\",\"Tuesday\",\"Wednesday\",\"Thursday\",\"Friday\"]\n",
    "\n",
    "for i in range(len(days)):\n",
    "    print(\"The value at position {} is {}\".format(i, days[i]))"
   ],
   "metadata": {
    "collapsed": false,
    "pycharm": {
     "name": "#%%\n"
    }
   }
  },
  {
   "cell_type": "code",
   "execution_count": 15,
   "outputs": [
    {
     "name": "stdout",
     "output_type": "stream",
     "text": [
      "The value at position 0 is Monday.\n",
      "The value at position 1 is Tuesday.\n",
      "The value at position 2 is Wednesday.\n",
      "The value at position 3 is Thursday.\n",
      "The value at position 4 is Friday.\n"
     ]
    }
   ],
   "source": [
    "for i, val in enumerate(days):\n",
    "    print(\"The value at position {} is {}.\".format(i, val))"
   ],
   "metadata": {
    "collapsed": false,
    "pycharm": {
     "name": "#%%\n"
    }
   }
  }
 ],
 "metadata": {
  "kernelspec": {
   "display_name": "Python 3",
   "language": "python",
   "name": "python3"
  },
  "language_info": {
   "codemirror_mode": {
    "name": "ipython",
    "version": 2
   },
   "file_extension": ".py",
   "mimetype": "text/x-python",
   "name": "python",
   "nbconvert_exporter": "python",
   "pygments_lexer": "ipython2",
   "version": "2.7.6"
  }
 },
 "nbformat": 4,
 "nbformat_minor": 0
}