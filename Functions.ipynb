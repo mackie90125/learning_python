{
 "cells": [
  {
   "cell_type": "markdown",
   "metadata": {
    "collapsed": true,
    "pycharm": {
     "name": "#%% md\n"
    }
   },
   "source": [
    "# Data Analysis with Python\n",
    "\n",
    "## Functions\n",
    "\n",
    "## freeCodeCamp.org YouTube"
   ]
  },
  {
   "cell_type": "code",
   "execution_count": 7,
   "outputs": [
    {
     "name": "stdout",
     "output_type": "stream",
     "text": [
      "Hello!\n",
      "I'm so excited!!\n"
     ]
    }
   ],
   "source": [
    "def say_hello():\n",
    "    print(\"Hello!\")\n",
    "    print(\"I'm so excited!!\")\n",
    "\n",
    "say_hello()"
   ],
   "metadata": {
    "collapsed": false,
    "pycharm": {
     "name": "#%%\n"
    }
   }
  },
  {
   "cell_type": "code",
   "execution_count": 9,
   "outputs": [
    {
     "data": {
      "text/plain": "[0, 2, 4, 6, 8, 10, 12, 14, 16, 18]"
     },
     "execution_count": 9,
     "metadata": {},
     "output_type": "execute_result"
    }
   ],
   "source": [
    "# function to return even numbers in a list\n",
    "def even_numbers(num_list):\n",
    "    output = []\n",
    "    for i in range(len(num_list)):\n",
    "        if num_list[i] % 2 == 0:\n",
    "            output.append(num_list[i])\n",
    "    return output\n",
    "\n",
    "even_numbers(list(range(20)))"
   ],
   "metadata": {
    "collapsed": false,
    "pycharm": {
     "name": "#%%\n"
    }
   }
  },
  {
   "cell_type": "code",
   "execution_count": 11,
   "outputs": [
    {
     "data": {
      "text/plain": "9375.0"
     },
     "execution_count": 11,
     "metadata": {},
     "output_type": "execute_result"
    }
   ],
   "source": [
    "# function to calculate EMI for loan\n",
    "def loan(cost, interest, time, down=0):\n",
    "    cost = cost - down\n",
    "    return cost / time\n",
    "\n",
    "loan(1e6, 0.10, 8*12, 1e5)"
   ],
   "metadata": {
    "collapsed": false,
    "pycharm": {
     "name": "#%%\n"
    }
   }
  },
  {
   "cell_type": "code",
   "execution_count": 15,
   "outputs": [
    {
     "name": "stdout",
     "output_type": "stream",
     "text": [
      "Monthly payments of 14567.2, and a total cost of 1398450.96.\n"
     ]
    }
   ],
   "source": [
    "def loan(cost, interest, time, down=0):\n",
    "    cost = cost - down\n",
    "    emi = cost * interest * (1 + interest)**time / ((1 + interest)**time - 1)\n",
    "    return print('Monthly payments of {}, and a total cost of {}.'.format(round(emi, 2), round(emi*time+down, 2)))\n",
    "\n",
    "loan(cost=1260000, interest=0.1/12, time=8*12, down=3e5)"
   ],
   "metadata": {
    "collapsed": false,
    "pycharm": {
     "name": "#%%\n"
    }
   }
  },
  {
   "cell_type": "code",
   "execution_count": 19,
   "outputs": [
    {
     "ename": "ZeroDivisionError",
     "evalue": "float division by zero",
     "output_type": "error",
     "traceback": [
      "\u001B[0;31m---------------------------------------------------------------------------\u001B[0m",
      "\u001B[0;31mZeroDivisionError\u001B[0m                         Traceback (most recent call last)",
      "Input \u001B[0;32mIn [19]\u001B[0m, in \u001B[0;36m<cell line: 1>\u001B[0;34m()\u001B[0m\n\u001B[0;32m----> 1\u001B[0m \u001B[43mloan\u001B[49m\u001B[43m(\u001B[49m\u001B[43mcost\u001B[49m\u001B[38;5;241;43m=\u001B[39;49m\u001B[38;5;241;43m1260000\u001B[39;49m\u001B[43m,\u001B[49m\u001B[43m \u001B[49m\u001B[43minterest\u001B[49m\u001B[38;5;241;43m=\u001B[39;49m\u001B[38;5;241;43m0\u001B[39;49m\u001B[43m,\u001B[49m\u001B[43m \u001B[49m\u001B[43mtime\u001B[49m\u001B[38;5;241;43m=\u001B[39;49m\u001B[38;5;241;43m8\u001B[39;49m\u001B[38;5;241;43m*\u001B[39;49m\u001B[38;5;241;43m12\u001B[39;49m\u001B[43m,\u001B[49m\u001B[43m \u001B[49m\u001B[43mdown\u001B[49m\u001B[38;5;241;43m=\u001B[39;49m\u001B[38;5;241;43m3e5\u001B[39;49m\u001B[43m)\u001B[49m\n",
      "Input \u001B[0;32mIn [15]\u001B[0m, in \u001B[0;36mloan\u001B[0;34m(cost, interest, time, down)\u001B[0m\n\u001B[1;32m      1\u001B[0m \u001B[38;5;28;01mdef\u001B[39;00m \u001B[38;5;21mloan\u001B[39m(cost, interest, time, down\u001B[38;5;241m=\u001B[39m\u001B[38;5;241m0\u001B[39m):\n\u001B[1;32m      2\u001B[0m     cost \u001B[38;5;241m=\u001B[39m cost \u001B[38;5;241m-\u001B[39m down\n\u001B[0;32m----> 3\u001B[0m     emi \u001B[38;5;241m=\u001B[39m \u001B[43mcost\u001B[49m\u001B[43m \u001B[49m\u001B[38;5;241;43m*\u001B[39;49m\u001B[43m \u001B[49m\u001B[43minterest\u001B[49m\u001B[43m \u001B[49m\u001B[38;5;241;43m*\u001B[39;49m\u001B[43m \u001B[49m\u001B[43m(\u001B[49m\u001B[38;5;241;43m1\u001B[39;49m\u001B[43m \u001B[49m\u001B[38;5;241;43m+\u001B[39;49m\u001B[43m \u001B[49m\u001B[43minterest\u001B[49m\u001B[43m)\u001B[49m\u001B[38;5;241;43m*\u001B[39;49m\u001B[38;5;241;43m*\u001B[39;49m\u001B[43mtime\u001B[49m\u001B[43m \u001B[49m\u001B[38;5;241;43m/\u001B[39;49m\u001B[43m \u001B[49m\u001B[43m(\u001B[49m\u001B[43m(\u001B[49m\u001B[38;5;241;43m1\u001B[39;49m\u001B[43m \u001B[49m\u001B[38;5;241;43m+\u001B[39;49m\u001B[43m \u001B[49m\u001B[43minterest\u001B[49m\u001B[43m)\u001B[49m\u001B[38;5;241;43m*\u001B[39;49m\u001B[38;5;241;43m*\u001B[39;49m\u001B[43mtime\u001B[49m\u001B[43m \u001B[49m\u001B[38;5;241;43m-\u001B[39;49m\u001B[43m \u001B[49m\u001B[38;5;241;43m1\u001B[39;49m\u001B[43m)\u001B[49m\n\u001B[1;32m      4\u001B[0m     \u001B[38;5;28;01mreturn\u001B[39;00m \u001B[38;5;28mprint\u001B[39m(\u001B[38;5;124m'\u001B[39m\u001B[38;5;124mMonthly payments of \u001B[39m\u001B[38;5;132;01m{}\u001B[39;00m\u001B[38;5;124m, and a total cost of \u001B[39m\u001B[38;5;132;01m{}\u001B[39;00m\u001B[38;5;124m.\u001B[39m\u001B[38;5;124m'\u001B[39m\u001B[38;5;241m.\u001B[39mformat(\u001B[38;5;28mround\u001B[39m(emi, \u001B[38;5;241m2\u001B[39m), \u001B[38;5;28mround\u001B[39m(emi\u001B[38;5;241m*\u001B[39mtime, \u001B[38;5;241m2\u001B[39m)))\n",
      "\u001B[0;31mZeroDivisionError\u001B[0m: float division by zero"
     ]
    }
   ],
   "source": [
    "loan(cost=1260000, interest=0, time=8*12, down=3e5)"
   ],
   "metadata": {
    "collapsed": false,
    "pycharm": {
     "name": "#%%\n"
    }
   }
  },
  {
   "cell_type": "code",
   "execution_count": 17,
   "outputs": [
    {
     "name": "stdout",
     "output_type": "stream",
     "text": [
      "Calculating the results...\n",
      "Cannot divide by zero.\n",
      "None\n"
     ]
    }
   ],
   "source": [
    "# try except statements\n",
    "\n",
    "try:\n",
    "    print(\"Calculating the results...\")\n",
    "    result = 5/0\n",
    "    print(\"Calculation complete.\")\n",
    "except ZeroDivisionError:\n",
    "    print(\"Cannot divide by zero.\")\n",
    "    result = None\n",
    "\n",
    "print(result)"
   ],
   "metadata": {
    "collapsed": false,
    "pycharm": {
     "name": "#%%\n"
    }
   }
  },
  {
   "cell_type": "code",
   "execution_count": 21,
   "outputs": [
    {
     "name": "stdout",
     "output_type": "stream",
     "text": [
      "Monthly payments of 10000.0, and a total cost of 1260000.0.\n"
     ]
    }
   ],
   "source": [
    "# function with try, except\n",
    "\n",
    "def loan(cost, interest, time, down=0):\n",
    "    cost = cost - down\n",
    "    try:\n",
    "        emi = cost * interest * (1 + interest)**time / ((1 + interest)**time - 1)\n",
    "    except ZeroDivisionError:\n",
    "        emi = cost / time\n",
    "    return print('Monthly payments of {}, and a total cost of {}.'.format(round(emi, 2), round(emi*time+down, 2)))\n",
    "\n",
    "loan(cost=1260000, interest=0, time=8*12, down=3e5)"
   ],
   "metadata": {
    "collapsed": false,
    "pycharm": {
     "name": "#%%\n"
    }
   }
  }
 ],
 "metadata": {
  "kernelspec": {
   "display_name": "Python 3",
   "language": "python",
   "name": "python3"
  },
  "language_info": {
   "codemirror_mode": {
    "name": "ipython",
    "version": 2
   },
   "file_extension": ".py",
   "mimetype": "text/x-python",
   "name": "python",
   "nbconvert_exporter": "python",
   "pygments_lexer": "ipython2",
   "version": "2.7.6"
  }
 },
 "nbformat": 4,
 "nbformat_minor": 0
}